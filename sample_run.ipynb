{
 "cells": [
  {
   "cell_type": "markdown",
   "metadata": {
    "id": "YQnUt8NMnBFg"
   },
   "source": [
    "# Sample Run of Our Project\n",
    "\n",
    "## Importing Libraries and Data"
   ]
  },
  {
   "cell_type": "code",
   "execution_count": 1,
   "metadata": {
    "executionInfo": {
     "elapsed": 1173,
     "status": "ok",
     "timestamp": 1654755131710,
     "user": {
      "displayName": "Jacob Emerson",
      "userId": "18341304084980736073"
     },
     "user_tz": 420
    },
    "id": "lDAQzx5wY6Xm"
   },
   "outputs": [],
   "source": [
    "import pandas as pd\n",
    "import numpy as np\n",
    "import matplotlib.pyplot as plt\n",
    "import seaborn as sns\n",
    "import datetime\n",
    "import math\n",
    "import pickle"
   ]
  },
  {
   "cell_type": "code",
   "execution_count": 2,
   "metadata": {
    "colab": {
     "base_uri": "https://localhost:8080/"
    },
    "executionInfo": {
     "elapsed": 2902,
     "status": "ok",
     "timestamp": 1654683371661,
     "user": {
      "displayName": "Aiden Sui",
      "userId": "14271933019255603823"
     },
     "user_tz": 420
    },
    "id": "evWaRyKLgZ2_",
    "outputId": "0ed8a2a5-919d-4b42-e48e-36c64f427225"
   },
   "outputs": [
    {
     "name": "stdout",
     "output_type": "stream",
     "text": [
      "Requirement already satisfied: dirty_cat in c:\\users\\jemer\\anaconda3\\lib\\site-packages (0.2.1)\n",
      "Requirement already satisfied: numpy>=1.16 in c:\\users\\jemer\\anaconda3\\lib\\site-packages (from dirty_cat) (1.19.2)\n",
      "Requirement already satisfied: scikit-learn>=0.21 in c:\\users\\jemer\\anaconda3\\lib\\site-packages (from dirty_cat) (0.23.2)\n",
      "Requirement already satisfied: pandas>=1.1.5 in c:\\users\\jemer\\anaconda3\\lib\\site-packages (from dirty_cat) (1.3.5)\n",
      "Requirement already satisfied: requests in c:\\users\\jemer\\anaconda3\\lib\\site-packages (from dirty_cat) (2.24.0)\n",
      "Requirement already satisfied: joblib in c:\\users\\jemer\\anaconda3\\lib\\site-packages (from dirty_cat) (0.17.0)\n",
      "Requirement already satisfied: scipy>=1.2 in c:\\users\\jemer\\anaconda3\\lib\\site-packages (from dirty_cat) (1.5.2)\n",
      "Requirement already satisfied: threadpoolctl>=2.0.0 in c:\\users\\jemer\\anaconda3\\lib\\site-packages (from scikit-learn>=0.21->dirty_cat) (2.1.0)\n",
      "Requirement already satisfied: pytz>=2017.3 in c:\\users\\jemer\\anaconda3\\lib\\site-packages (from pandas>=1.1.5->dirty_cat) (2020.1)\n",
      "Requirement already satisfied: python-dateutil>=2.7.3 in c:\\users\\jemer\\anaconda3\\lib\\site-packages (from pandas>=1.1.5->dirty_cat) (2.8.1)\n",
      "Requirement already satisfied: chardet<4,>=3.0.2 in c:\\users\\jemer\\anaconda3\\lib\\site-packages (from requests->dirty_cat) (3.0.4)\n",
      "Requirement already satisfied: certifi>=2017.4.17 in c:\\users\\jemer\\anaconda3\\lib\\site-packages (from requests->dirty_cat) (2020.6.20)\n",
      "Requirement already satisfied: urllib3!=1.25.0,!=1.25.1,<1.26,>=1.21.1 in c:\\users\\jemer\\anaconda3\\lib\\site-packages (from requests->dirty_cat) (1.25.11)\n",
      "Requirement already satisfied: idna<3,>=2.5 in c:\\users\\jemer\\anaconda3\\lib\\site-packages (from requests->dirty_cat) (2.10)\n",
      "Requirement already satisfied: six>=1.5 in c:\\users\\jemer\\anaconda3\\lib\\site-packages (from python-dateutil>=2.7.3->pandas>=1.1.5->dirty_cat) (1.15.0)\n"
     ]
    }
   ],
   "source": [
    "!pip install dirty_cat"
   ]
  },
  {
   "cell_type": "code",
   "execution_count": 3,
   "metadata": {
    "id": "NZ-JSEEJgbps"
   },
   "outputs": [],
   "source": [
    "from sklearn.pipeline import make_pipeline\n",
    "from sklearn.model_selection import cross_val_score\n",
    "from sklearn.compose import make_column_transformer\n",
    "from sklearn.ensemble import GradientBoostingRegressor\n",
    "from sklearn.metrics import mean_absolute_error, make_scorer\n",
    "\n",
    "mae_scorer = make_scorer(mean_absolute_error)"
   ]
  },
  {
   "cell_type": "code",
   "execution_count": 11,
   "metadata": {
    "id": "FY97aOk0pRhG"
   },
   "outputs": [],
   "source": [
    "combined_data_cleaned = pickle.load(open(\"./Data/data.pkl\", \"rb\"))"
   ]
  },
  {
   "cell_type": "code",
   "execution_count": 15,
   "metadata": {},
   "outputs": [
    {
     "data": {
      "text/html": [
       "<div>\n",
       "<style scoped>\n",
       "    .dataframe tbody tr th:only-of-type {\n",
       "        vertical-align: middle;\n",
       "    }\n",
       "\n",
       "    .dataframe tbody tr th {\n",
       "        vertical-align: top;\n",
       "    }\n",
       "\n",
       "    .dataframe thead th {\n",
       "        text-align: right;\n",
       "    }\n",
       "</style>\n",
       "<table border=\"1\" class=\"dataframe\">\n",
       "  <thead>\n",
       "    <tr style=\"text-align: right;\">\n",
       "      <th></th>\n",
       "      <th>title</th>\n",
       "      <th>publisher</th>\n",
       "      <th>developer</th>\n",
       "      <th>vg_score</th>\n",
       "      <th>critic_score</th>\n",
       "      <th>user_score</th>\n",
       "      <th>category</th>\n",
       "      <th>status</th>\n",
       "      <th>age_ratings</th>\n",
       "      <th>collection</th>\n",
       "      <th>...</th>\n",
       "      <th>game_engines 119</th>\n",
       "      <th>game_engines 341</th>\n",
       "      <th>game_engines 84</th>\n",
       "      <th>game_engines 279</th>\n",
       "      <th>game_engines 8</th>\n",
       "      <th>game_engines 63</th>\n",
       "      <th>game_engines 31</th>\n",
       "      <th>game_engines 135</th>\n",
       "      <th>game_engines 48</th>\n",
       "      <th>game_engines 319</th>\n",
       "    </tr>\n",
       "  </thead>\n",
       "  <tbody>\n",
       "    <tr>\n",
       "      <th>0</th>\n",
       "      <td>WarioWare: Smooth Moves</td>\n",
       "      <td>Nintendo</td>\n",
       "      <td>Intelligent Systems</td>\n",
       "      <td>8.1</td>\n",
       "      <td>8.2</td>\n",
       "      <td>0.0</td>\n",
       "      <td>0</td>\n",
       "      <td>0.0</td>\n",
       "      <td>9</td>\n",
       "      <td>1113.0</td>\n",
       "      <td>...</td>\n",
       "      <td>0.0</td>\n",
       "      <td>0.0</td>\n",
       "      <td>0.0</td>\n",
       "      <td>0.0</td>\n",
       "      <td>0.0</td>\n",
       "      <td>0.0</td>\n",
       "      <td>0.0</td>\n",
       "      <td>0.0</td>\n",
       "      <td>0.0</td>\n",
       "      <td>0.0</td>\n",
       "    </tr>\n",
       "    <tr>\n",
       "      <th>1</th>\n",
       "      <td>World of Warcraft: The Burning Crusade</td>\n",
       "      <td>Blizzard Entertainment</td>\n",
       "      <td>Blizzard Entertainment</td>\n",
       "      <td>0.0</td>\n",
       "      <td>9.2</td>\n",
       "      <td>0.0</td>\n",
       "      <td>2</td>\n",
       "      <td>0.0</td>\n",
       "      <td>10</td>\n",
       "      <td>27.0</td>\n",
       "      <td>...</td>\n",
       "      <td>0.0</td>\n",
       "      <td>0.0</td>\n",
       "      <td>0.0</td>\n",
       "      <td>0.0</td>\n",
       "      <td>0.0</td>\n",
       "      <td>0.0</td>\n",
       "      <td>0.0</td>\n",
       "      <td>0.0</td>\n",
       "      <td>0.0</td>\n",
       "      <td>0.0</td>\n",
       "    </tr>\n",
       "    <tr>\n",
       "      <th>2</th>\n",
       "      <td>Dragon Shadow Spell</td>\n",
       "      <td>Flight-Plan</td>\n",
       "      <td>Flight-Plan</td>\n",
       "      <td>0.0</td>\n",
       "      <td>0.0</td>\n",
       "      <td>0.0</td>\n",
       "      <td>0</td>\n",
       "      <td>0.0</td>\n",
       "      <td>-1</td>\n",
       "      <td>0.0</td>\n",
       "      <td>...</td>\n",
       "      <td>0.0</td>\n",
       "      <td>0.0</td>\n",
       "      <td>0.0</td>\n",
       "      <td>0.0</td>\n",
       "      <td>0.0</td>\n",
       "      <td>0.0</td>\n",
       "      <td>0.0</td>\n",
       "      <td>0.0</td>\n",
       "      <td>0.0</td>\n",
       "      <td>0.0</td>\n",
       "    </tr>\n",
       "    <tr>\n",
       "      <th>3</th>\n",
       "      <td>Hotel Dusk: Room 215</td>\n",
       "      <td>Nintendo</td>\n",
       "      <td>Cing</td>\n",
       "      <td>0.0</td>\n",
       "      <td>8.0</td>\n",
       "      <td>6.9</td>\n",
       "      <td>0</td>\n",
       "      <td>0.0</td>\n",
       "      <td>10</td>\n",
       "      <td>5345.0</td>\n",
       "      <td>...</td>\n",
       "      <td>0.0</td>\n",
       "      <td>0.0</td>\n",
       "      <td>0.0</td>\n",
       "      <td>0.0</td>\n",
       "      <td>0.0</td>\n",
       "      <td>0.0</td>\n",
       "      <td>0.0</td>\n",
       "      <td>0.0</td>\n",
       "      <td>0.0</td>\n",
       "      <td>0.0</td>\n",
       "    </tr>\n",
       "    <tr>\n",
       "      <th>4</th>\n",
       "      <td>Europa Universalis III</td>\n",
       "      <td>Paradox Interactive</td>\n",
       "      <td>Paradox Interactive</td>\n",
       "      <td>0.0</td>\n",
       "      <td>0.0</td>\n",
       "      <td>0.0</td>\n",
       "      <td>0</td>\n",
       "      <td>0.0</td>\n",
       "      <td>8</td>\n",
       "      <td>165.0</td>\n",
       "      <td>...</td>\n",
       "      <td>0.0</td>\n",
       "      <td>0.0</td>\n",
       "      <td>0.0</td>\n",
       "      <td>0.0</td>\n",
       "      <td>0.0</td>\n",
       "      <td>0.0</td>\n",
       "      <td>0.0</td>\n",
       "      <td>0.0</td>\n",
       "      <td>0.0</td>\n",
       "      <td>0.0</td>\n",
       "    </tr>\n",
       "    <tr>\n",
       "      <th>...</th>\n",
       "      <td>...</td>\n",
       "      <td>...</td>\n",
       "      <td>...</td>\n",
       "      <td>...</td>\n",
       "      <td>...</td>\n",
       "      <td>...</td>\n",
       "      <td>...</td>\n",
       "      <td>...</td>\n",
       "      <td>...</td>\n",
       "      <td>...</td>\n",
       "      <td>...</td>\n",
       "      <td>...</td>\n",
       "      <td>...</td>\n",
       "      <td>...</td>\n",
       "      <td>...</td>\n",
       "      <td>...</td>\n",
       "      <td>...</td>\n",
       "      <td>...</td>\n",
       "      <td>...</td>\n",
       "      <td>...</td>\n",
       "      <td>...</td>\n",
       "    </tr>\n",
       "    <tr>\n",
       "      <th>2428</th>\n",
       "      <td>Monark</td>\n",
       "      <td>FuRyu Corporation</td>\n",
       "      <td>Lancarse</td>\n",
       "      <td>0.0</td>\n",
       "      <td>0.0</td>\n",
       "      <td>0.0</td>\n",
       "      <td>0</td>\n",
       "      <td>0.0</td>\n",
       "      <td>10</td>\n",
       "      <td>0.0</td>\n",
       "      <td>...</td>\n",
       "      <td>0.0</td>\n",
       "      <td>0.0</td>\n",
       "      <td>0.0</td>\n",
       "      <td>0.0</td>\n",
       "      <td>0.0</td>\n",
       "      <td>0.0</td>\n",
       "      <td>0.0</td>\n",
       "      <td>0.0</td>\n",
       "      <td>0.0</td>\n",
       "      <td>0.0</td>\n",
       "    </tr>\n",
       "    <tr>\n",
       "      <th>2429</th>\n",
       "      <td>Elden Ring</td>\n",
       "      <td>Bandai Namco Entertainment</td>\n",
       "      <td>From Software</td>\n",
       "      <td>0.0</td>\n",
       "      <td>0.0</td>\n",
       "      <td>0.0</td>\n",
       "      <td>0</td>\n",
       "      <td>0.0</td>\n",
       "      <td>11</td>\n",
       "      <td>0.0</td>\n",
       "      <td>...</td>\n",
       "      <td>0.0</td>\n",
       "      <td>0.0</td>\n",
       "      <td>0.0</td>\n",
       "      <td>0.0</td>\n",
       "      <td>0.0</td>\n",
       "      <td>0.0</td>\n",
       "      <td>0.0</td>\n",
       "      <td>0.0</td>\n",
       "      <td>0.0</td>\n",
       "      <td>0.0</td>\n",
       "    </tr>\n",
       "    <tr>\n",
       "      <th>2430</th>\n",
       "      <td>Triangle Strategy</td>\n",
       "      <td>Nintendo</td>\n",
       "      <td>Square Enix</td>\n",
       "      <td>7.5</td>\n",
       "      <td>0.0</td>\n",
       "      <td>0.0</td>\n",
       "      <td>0</td>\n",
       "      <td>0.0</td>\n",
       "      <td>10</td>\n",
       "      <td>0.0</td>\n",
       "      <td>...</td>\n",
       "      <td>0.0</td>\n",
       "      <td>0.0</td>\n",
       "      <td>0.0</td>\n",
       "      <td>0.0</td>\n",
       "      <td>0.0</td>\n",
       "      <td>0.0</td>\n",
       "      <td>0.0</td>\n",
       "      <td>0.0</td>\n",
       "      <td>0.0</td>\n",
       "      <td>0.0</td>\n",
       "    </tr>\n",
       "    <tr>\n",
       "      <th>2431</th>\n",
       "      <td>Core Keeper</td>\n",
       "      <td>Fireshine Games</td>\n",
       "      <td>Pugstorm Game Studios</td>\n",
       "      <td>0.0</td>\n",
       "      <td>0.0</td>\n",
       "      <td>0.0</td>\n",
       "      <td>0</td>\n",
       "      <td>4.0</td>\n",
       "      <td>-1</td>\n",
       "      <td>0.0</td>\n",
       "      <td>...</td>\n",
       "      <td>0.0</td>\n",
       "      <td>0.0</td>\n",
       "      <td>0.0</td>\n",
       "      <td>0.0</td>\n",
       "      <td>0.0</td>\n",
       "      <td>0.0</td>\n",
       "      <td>0.0</td>\n",
       "      <td>0.0</td>\n",
       "      <td>0.0</td>\n",
       "      <td>0.0</td>\n",
       "    </tr>\n",
       "    <tr>\n",
       "      <th>2432</th>\n",
       "      <td>Diablo IV</td>\n",
       "      <td>Blizzard Entertainment</td>\n",
       "      <td>Blizzard Entertainment</td>\n",
       "      <td>0.0</td>\n",
       "      <td>0.0</td>\n",
       "      <td>0.0</td>\n",
       "      <td>0</td>\n",
       "      <td>0.0</td>\n",
       "      <td>-1</td>\n",
       "      <td>24.0</td>\n",
       "      <td>...</td>\n",
       "      <td>0.0</td>\n",
       "      <td>0.0</td>\n",
       "      <td>0.0</td>\n",
       "      <td>0.0</td>\n",
       "      <td>0.0</td>\n",
       "      <td>0.0</td>\n",
       "      <td>0.0</td>\n",
       "      <td>0.0</td>\n",
       "      <td>0.0</td>\n",
       "      <td>0.0</td>\n",
       "    </tr>\n",
       "  </tbody>\n",
       "</table>\n",
       "<p>2433 rows × 313 columns</p>\n",
       "</div>"
      ],
      "text/plain": [
       "                                       title                   publisher  \\\n",
       "0                    WarioWare: Smooth Moves                    Nintendo   \n",
       "1     World of Warcraft: The Burning Crusade      Blizzard Entertainment   \n",
       "2                        Dragon Shadow Spell                 Flight-Plan   \n",
       "3                       Hotel Dusk: Room 215                    Nintendo   \n",
       "4                     Europa Universalis III         Paradox Interactive   \n",
       "...                                      ...                         ...   \n",
       "2428                                  Monark           FuRyu Corporation   \n",
       "2429                              Elden Ring  Bandai Namco Entertainment   \n",
       "2430                       Triangle Strategy                    Nintendo   \n",
       "2431                             Core Keeper             Fireshine Games   \n",
       "2432                               Diablo IV      Blizzard Entertainment   \n",
       "\n",
       "                   developer  vg_score  critic_score  user_score  category  \\\n",
       "0        Intelligent Systems       8.1           8.2         0.0         0   \n",
       "1     Blizzard Entertainment       0.0           9.2         0.0         2   \n",
       "2                Flight-Plan       0.0           0.0         0.0         0   \n",
       "3                       Cing       0.0           8.0         6.9         0   \n",
       "4        Paradox Interactive       0.0           0.0         0.0         0   \n",
       "...                      ...       ...           ...         ...       ...   \n",
       "2428                Lancarse       0.0           0.0         0.0         0   \n",
       "2429           From Software       0.0           0.0         0.0         0   \n",
       "2430             Square Enix       7.5           0.0         0.0         0   \n",
       "2431   Pugstorm Game Studios       0.0           0.0         0.0         0   \n",
       "2432  Blizzard Entertainment       0.0           0.0         0.0         0   \n",
       "\n",
       "      status  age_ratings  collection  ...  game_engines 119  \\\n",
       "0        0.0            9      1113.0  ...               0.0   \n",
       "1        0.0           10        27.0  ...               0.0   \n",
       "2        0.0           -1         0.0  ...               0.0   \n",
       "3        0.0           10      5345.0  ...               0.0   \n",
       "4        0.0            8       165.0  ...               0.0   \n",
       "...      ...          ...         ...  ...               ...   \n",
       "2428     0.0           10         0.0  ...               0.0   \n",
       "2429     0.0           11         0.0  ...               0.0   \n",
       "2430     0.0           10         0.0  ...               0.0   \n",
       "2431     4.0           -1         0.0  ...               0.0   \n",
       "2432     0.0           -1        24.0  ...               0.0   \n",
       "\n",
       "      game_engines 341  game_engines 84  game_engines 279  game_engines 8  \\\n",
       "0                  0.0              0.0               0.0             0.0   \n",
       "1                  0.0              0.0               0.0             0.0   \n",
       "2                  0.0              0.0               0.0             0.0   \n",
       "3                  0.0              0.0               0.0             0.0   \n",
       "4                  0.0              0.0               0.0             0.0   \n",
       "...                ...              ...               ...             ...   \n",
       "2428               0.0              0.0               0.0             0.0   \n",
       "2429               0.0              0.0               0.0             0.0   \n",
       "2430               0.0              0.0               0.0             0.0   \n",
       "2431               0.0              0.0               0.0             0.0   \n",
       "2432               0.0              0.0               0.0             0.0   \n",
       "\n",
       "      game_engines 63  game_engines 31  game_engines 135  game_engines 48  \\\n",
       "0                 0.0              0.0               0.0              0.0   \n",
       "1                 0.0              0.0               0.0              0.0   \n",
       "2                 0.0              0.0               0.0              0.0   \n",
       "3                 0.0              0.0               0.0              0.0   \n",
       "4                 0.0              0.0               0.0              0.0   \n",
       "...               ...              ...               ...              ...   \n",
       "2428              0.0              0.0               0.0              0.0   \n",
       "2429              0.0              0.0               0.0              0.0   \n",
       "2430              0.0              0.0               0.0              0.0   \n",
       "2431              0.0              0.0               0.0              0.0   \n",
       "2432              0.0              0.0               0.0              0.0   \n",
       "\n",
       "      game_engines 319  \n",
       "0                  0.0  \n",
       "1                  0.0  \n",
       "2                  0.0  \n",
       "3                  0.0  \n",
       "4                  0.0  \n",
       "...                ...  \n",
       "2428               0.0  \n",
       "2429               0.0  \n",
       "2430               0.0  \n",
       "2431               0.0  \n",
       "2432               0.0  \n",
       "\n",
       "[2433 rows x 313 columns]"
      ]
     },
     "execution_count": 15,
     "metadata": {},
     "output_type": "execute_result"
    }
   ],
   "source": [
    "combined_data_cleaned"
   ]
  },
  {
   "cell_type": "markdown",
   "metadata": {
    "id": "ys-hwHMy0s1H"
   },
   "source": [
    "## Transforming Data"
   ]
  },
  {
   "cell_type": "code",
   "execution_count": 16,
   "metadata": {
    "id": "YpuONKLAgkbx"
   },
   "outputs": [],
   "source": [
    "X = combined_data_cleaned.drop(['log2'], axis=1)\n",
    "y = combined_data_cleaned['log2']"
   ]
  },
  {
   "cell_type": "code",
   "execution_count": 17,
   "metadata": {
    "id": "6AUQfCkFgqOm"
   },
   "outputs": [],
   "source": [
    "from dirty_cat import SuperVectorizer\n",
    "sup_vec = SuperVectorizer(auto_cast=True)"
   ]
  },
  {
   "cell_type": "code",
   "execution_count": 18,
   "metadata": {
    "id": "19Nt4PfRzqon"
   },
   "outputs": [],
   "source": [
    "X_enc = sup_vec.fit_transform(X, y)"
   ]
  },
  {
   "cell_type": "code",
   "execution_count": 19,
   "metadata": {
    "id": "ciQfHO3Lguow"
   },
   "outputs": [],
   "source": [
    "from sklearn.model_selection import train_test_split\n",
    "X_train_enc, X_test_enc, y_train, y_test = train_test_split(\n",
    "    X_enc, y, test_size=0.25, random_state=42\n",
    ")"
   ]
  },
  {
   "cell_type": "markdown",
   "metadata": {
    "id": "9YeTtd5m00zs"
   },
   "source": [
    "## Importing Model 1 (Base line model)"
   ]
  },
  {
   "cell_type": "code",
   "execution_count": 23,
   "metadata": {
    "id": "GJpBhTH600Jw"
   },
   "outputs": [
    {
     "name": "stderr",
     "output_type": "stream",
     "text": [
      "C:\\Users\\jemer\\anaconda3\\lib\\site-packages\\sklearn\\base.py:329: UserWarning: Trying to unpickle estimator DecisionTreeRegressor from version 1.0.2 when using version 0.23.2. This might lead to breaking code or invalid results. Use at your own risk.\n",
      "  warnings.warn(\n",
      "C:\\Users\\jemer\\anaconda3\\lib\\site-packages\\sklearn\\base.py:329: UserWarning: Trying to unpickle estimator DummyRegressor from version 1.0.2 when using version 0.23.2. This might lead to breaking code or invalid results. Use at your own risk.\n",
      "  warnings.warn(\n",
      "C:\\Users\\jemer\\anaconda3\\lib\\site-packages\\sklearn\\base.py:329: UserWarning: Trying to unpickle estimator GradientBoostingRegressor from version 1.0.2 when using version 0.23.2. This might lead to breaking code or invalid results. Use at your own risk.\n",
      "  warnings.warn(\n"
     ]
    }
   ],
   "source": [
    "GB_regr = pickle.load(open(\"./Data/GB_regr.pkl\", \"rb\"))"
   ]
  },
  {
   "cell_type": "markdown",
   "metadata": {
    "id": "G3F9IZTu03mT"
   },
   "source": [
    "## Testing Model 1 Performance"
   ]
  },
  {
   "cell_type": "code",
   "execution_count": 22,
   "metadata": {
    "colab": {
     "base_uri": "https://localhost:8080/",
     "height": 295
    },
    "executionInfo": {
     "elapsed": 517,
     "status": "ok",
     "timestamp": 1654683409737,
     "user": {
      "displayName": "Aiden Sui",
      "userId": "14271933019255603823"
     },
     "user_tz": 420
    },
    "id": "Q5cHWHbQid26",
    "outputId": "30c109be-78e9-41ea-a82b-caa3587aa8cd"
   },
   "outputs": [
    {
     "ename": "AttributeError",
     "evalue": "'DecisionTreeRegressor' object has no attribute 'n_features_'",
     "output_type": "error",
     "traceback": [
      "\u001b[1;31m---------------------------------------------------------------------------\u001b[0m",
      "\u001b[1;31mAttributeError\u001b[0m                            Traceback (most recent call last)",
      "\u001b[1;32m<ipython-input-22-b867d9b860f7>\u001b[0m in \u001b[0;36m<module>\u001b[1;34m\u001b[0m\n\u001b[1;32m----> 1\u001b[1;33m \u001b[0mtest_predictions\u001b[0m \u001b[1;33m=\u001b[0m \u001b[0mGB_regr\u001b[0m\u001b[1;33m.\u001b[0m\u001b[0mpredict\u001b[0m\u001b[1;33m(\u001b[0m\u001b[0mX_test_enc\u001b[0m\u001b[1;33m)\u001b[0m\u001b[1;33m.\u001b[0m\u001b[0mflatten\u001b[0m\u001b[1;33m(\u001b[0m\u001b[1;33m)\u001b[0m\u001b[1;33m\u001b[0m\u001b[1;33m\u001b[0m\u001b[0m\n\u001b[0m\u001b[0;32m      2\u001b[0m \u001b[1;33m\u001b[0m\u001b[0m\n\u001b[0;32m      3\u001b[0m \u001b[0mplt\u001b[0m\u001b[1;33m.\u001b[0m\u001b[0mscatter\u001b[0m\u001b[1;33m(\u001b[0m\u001b[0my_test\u001b[0m\u001b[1;33m,\u001b[0m \u001b[0mtest_predictions\u001b[0m\u001b[1;33m)\u001b[0m\u001b[1;33m\u001b[0m\u001b[1;33m\u001b[0m\u001b[0m\n\u001b[0;32m      4\u001b[0m \u001b[0mplt\u001b[0m\u001b[1;33m.\u001b[0m\u001b[0mxlabel\u001b[0m\u001b[1;33m(\u001b[0m\u001b[1;34m'True Values'\u001b[0m\u001b[1;33m)\u001b[0m\u001b[1;33m\u001b[0m\u001b[1;33m\u001b[0m\u001b[0m\n\u001b[0;32m      5\u001b[0m \u001b[0mplt\u001b[0m\u001b[1;33m.\u001b[0m\u001b[0mylabel\u001b[0m\u001b[1;33m(\u001b[0m\u001b[1;34m'Predictions'\u001b[0m\u001b[1;33m)\u001b[0m\u001b[1;33m\u001b[0m\u001b[1;33m\u001b[0m\u001b[0m\n",
      "\u001b[1;32m~\\anaconda3\\lib\\site-packages\\sklearn\\ensemble\\_gb.py\u001b[0m in \u001b[0;36mpredict\u001b[1;34m(self, X)\u001b[0m\n\u001b[0;32m   1609\u001b[0m         \u001b[0mX\u001b[0m \u001b[1;33m=\u001b[0m \u001b[0mcheck_array\u001b[0m\u001b[1;33m(\u001b[0m\u001b[0mX\u001b[0m\u001b[1;33m,\u001b[0m \u001b[0mdtype\u001b[0m\u001b[1;33m=\u001b[0m\u001b[0mDTYPE\u001b[0m\u001b[1;33m,\u001b[0m \u001b[0morder\u001b[0m\u001b[1;33m=\u001b[0m\u001b[1;34m\"C\"\u001b[0m\u001b[1;33m,\u001b[0m \u001b[0maccept_sparse\u001b[0m\u001b[1;33m=\u001b[0m\u001b[1;34m'csr'\u001b[0m\u001b[1;33m)\u001b[0m\u001b[1;33m\u001b[0m\u001b[1;33m\u001b[0m\u001b[0m\n\u001b[0;32m   1610\u001b[0m         \u001b[1;31m# In regression we can directly return the raw value from the trees.\u001b[0m\u001b[1;33m\u001b[0m\u001b[1;33m\u001b[0m\u001b[1;33m\u001b[0m\u001b[0m\n\u001b[1;32m-> 1611\u001b[1;33m         \u001b[1;32mreturn\u001b[0m \u001b[0mself\u001b[0m\u001b[1;33m.\u001b[0m\u001b[0m_raw_predict\u001b[0m\u001b[1;33m(\u001b[0m\u001b[0mX\u001b[0m\u001b[1;33m)\u001b[0m\u001b[1;33m.\u001b[0m\u001b[0mravel\u001b[0m\u001b[1;33m(\u001b[0m\u001b[1;33m)\u001b[0m\u001b[1;33m\u001b[0m\u001b[1;33m\u001b[0m\u001b[0m\n\u001b[0m\u001b[0;32m   1612\u001b[0m \u001b[1;33m\u001b[0m\u001b[0m\n\u001b[0;32m   1613\u001b[0m     \u001b[1;32mdef\u001b[0m \u001b[0mstaged_predict\u001b[0m\u001b[1;33m(\u001b[0m\u001b[0mself\u001b[0m\u001b[1;33m,\u001b[0m \u001b[0mX\u001b[0m\u001b[1;33m)\u001b[0m\u001b[1;33m:\u001b[0m\u001b[1;33m\u001b[0m\u001b[1;33m\u001b[0m\u001b[0m\n",
      "\u001b[1;32m~\\anaconda3\\lib\\site-packages\\sklearn\\ensemble\\_gb.py\u001b[0m in \u001b[0;36m_raw_predict\u001b[1;34m(self, X)\u001b[0m\n\u001b[0;32m    616\u001b[0m     \u001b[1;32mdef\u001b[0m \u001b[0m_raw_predict\u001b[0m\u001b[1;33m(\u001b[0m\u001b[0mself\u001b[0m\u001b[1;33m,\u001b[0m \u001b[0mX\u001b[0m\u001b[1;33m)\u001b[0m\u001b[1;33m:\u001b[0m\u001b[1;33m\u001b[0m\u001b[1;33m\u001b[0m\u001b[0m\n\u001b[0;32m    617\u001b[0m         \u001b[1;34m\"\"\"Return the sum of the trees raw predictions (+ init estimator).\"\"\"\u001b[0m\u001b[1;33m\u001b[0m\u001b[1;33m\u001b[0m\u001b[0m\n\u001b[1;32m--> 618\u001b[1;33m         \u001b[0mraw_predictions\u001b[0m \u001b[1;33m=\u001b[0m \u001b[0mself\u001b[0m\u001b[1;33m.\u001b[0m\u001b[0m_raw_predict_init\u001b[0m\u001b[1;33m(\u001b[0m\u001b[0mX\u001b[0m\u001b[1;33m)\u001b[0m\u001b[1;33m\u001b[0m\u001b[1;33m\u001b[0m\u001b[0m\n\u001b[0m\u001b[0;32m    619\u001b[0m         predict_stages(self.estimators_, X, self.learning_rate,\n\u001b[0;32m    620\u001b[0m                        raw_predictions)\n",
      "\u001b[1;32m~\\anaconda3\\lib\\site-packages\\sklearn\\ensemble\\_gb.py\u001b[0m in \u001b[0;36m_raw_predict_init\u001b[1;34m(self, X)\u001b[0m\n\u001b[0;32m    602\u001b[0m         \u001b[1;34m\"\"\"Check input and compute raw predictions of the init estimator.\"\"\"\u001b[0m\u001b[1;33m\u001b[0m\u001b[1;33m\u001b[0m\u001b[0m\n\u001b[0;32m    603\u001b[0m         \u001b[0mself\u001b[0m\u001b[1;33m.\u001b[0m\u001b[0m_check_initialized\u001b[0m\u001b[1;33m(\u001b[0m\u001b[1;33m)\u001b[0m\u001b[1;33m\u001b[0m\u001b[1;33m\u001b[0m\u001b[0m\n\u001b[1;32m--> 604\u001b[1;33m         \u001b[0mX\u001b[0m \u001b[1;33m=\u001b[0m \u001b[0mself\u001b[0m\u001b[1;33m.\u001b[0m\u001b[0mestimators_\u001b[0m\u001b[1;33m[\u001b[0m\u001b[1;36m0\u001b[0m\u001b[1;33m,\u001b[0m \u001b[1;36m0\u001b[0m\u001b[1;33m]\u001b[0m\u001b[1;33m.\u001b[0m\u001b[0m_validate_X_predict\u001b[0m\u001b[1;33m(\u001b[0m\u001b[0mX\u001b[0m\u001b[1;33m,\u001b[0m \u001b[0mcheck_input\u001b[0m\u001b[1;33m=\u001b[0m\u001b[1;32mTrue\u001b[0m\u001b[1;33m)\u001b[0m\u001b[1;33m\u001b[0m\u001b[1;33m\u001b[0m\u001b[0m\n\u001b[0m\u001b[0;32m    605\u001b[0m         \u001b[1;32mif\u001b[0m \u001b[0mX\u001b[0m\u001b[1;33m.\u001b[0m\u001b[0mshape\u001b[0m\u001b[1;33m[\u001b[0m\u001b[1;36m1\u001b[0m\u001b[1;33m]\u001b[0m \u001b[1;33m!=\u001b[0m \u001b[0mself\u001b[0m\u001b[1;33m.\u001b[0m\u001b[0mn_features_\u001b[0m\u001b[1;33m:\u001b[0m\u001b[1;33m\u001b[0m\u001b[1;33m\u001b[0m\u001b[0m\n\u001b[0;32m    606\u001b[0m             raise ValueError(\"X.shape[1] should be {0:d}, not {1:d}.\".format(\n",
      "\u001b[1;32m~\\anaconda3\\lib\\site-packages\\sklearn\\tree\\_classes.py\u001b[0m in \u001b[0;36m_validate_X_predict\u001b[1;34m(self, X, check_input)\u001b[0m\n\u001b[0;32m    393\u001b[0m \u001b[1;33m\u001b[0m\u001b[0m\n\u001b[0;32m    394\u001b[0m         \u001b[0mn_features\u001b[0m \u001b[1;33m=\u001b[0m \u001b[0mX\u001b[0m\u001b[1;33m.\u001b[0m\u001b[0mshape\u001b[0m\u001b[1;33m[\u001b[0m\u001b[1;36m1\u001b[0m\u001b[1;33m]\u001b[0m\u001b[1;33m\u001b[0m\u001b[1;33m\u001b[0m\u001b[0m\n\u001b[1;32m--> 395\u001b[1;33m         \u001b[1;32mif\u001b[0m \u001b[0mself\u001b[0m\u001b[1;33m.\u001b[0m\u001b[0mn_features_\u001b[0m \u001b[1;33m!=\u001b[0m \u001b[0mn_features\u001b[0m\u001b[1;33m:\u001b[0m\u001b[1;33m\u001b[0m\u001b[1;33m\u001b[0m\u001b[0m\n\u001b[0m\u001b[0;32m    396\u001b[0m             raise ValueError(\"Number of features of the model must \"\n\u001b[0;32m    397\u001b[0m                              \u001b[1;34m\"match the input. Model n_features is %s and \"\u001b[0m\u001b[1;33m\u001b[0m\u001b[1;33m\u001b[0m\u001b[0m\n",
      "\u001b[1;31mAttributeError\u001b[0m: 'DecisionTreeRegressor' object has no attribute 'n_features_'"
     ]
    }
   ],
   "source": [
    "test_predictions = GB_regr.predict(X_test_enc).flatten()\n",
    "\n",
    "plt.scatter(y_test, test_predictions)\n",
    "plt.xlabel('True Values')\n",
    "plt.ylabel('Predictions')\n",
    "plt.axis('equal')\n",
    "plt.axis('square')\n",
    "plt.xlim([0,plt.xlim()[1]])\n",
    "plt.ylim([0,plt.ylim()[1]])\n",
    "plt.title(\"Prediction VS. True Values\")\n",
    "_ = plt.plot([-100, 100], [-100, 100])"
   ]
  },
  {
   "cell_type": "code",
   "execution_count": 12,
   "metadata": {
    "colab": {
     "base_uri": "https://localhost:8080/",
     "height": 295
    },
    "executionInfo": {
     "elapsed": 408,
     "status": "ok",
     "timestamp": 1654683410141,
     "user": {
      "displayName": "Aiden Sui",
      "userId": "14271933019255603823"
     },
     "user_tz": 420
    },
    "id": "UbIUvDXiiiKx",
    "outputId": "75359aba-3985-4953-8b87-b599fa169cec"
   },
   "outputs": [
    {
     "data": {
      "image/png": "[encoded data removed]",
      "text/plain": [
       "<Figure size 432x288 with 1 Axes>"
      ]
     },
     "metadata": {
      "needs_background": "light"
     },
     "output_type": "display_data"
    }
   ],
   "source": [
    "plt.hist(test_predictions - y_test, bins=25)\n",
    "plt.title(\"Prediction Error Distribution\")\n",
    "plt.xlabel(\"Prediction Error\")\n",
    "plt.ylabel(\"Count\")\n",
    "plt.show()"
   ]
  },
  {
   "cell_type": "code",
   "execution_count": 13,
   "metadata": {
    "colab": {
     "base_uri": "https://localhost:8080/"
    },
    "executionInfo": {
     "elapsed": 42544,
     "status": "ok",
     "timestamp": 1654683452682,
     "user": {
      "displayName": "Aiden Sui",
      "userId": "14271933019255603823"
     },
     "user_tz": 420
    },
    "id": "FVb3VXgxikoj",
    "outputId": "658b1e86-6534-4be8-e086-76c69dfdf96b"
   },
   "outputs": [
    {
     "data": {
      "text/plain": [
       "0.3900232264619339"
      ]
     },
     "execution_count": 13,
     "metadata": {},
     "output_type": "execute_result"
    }
   ],
   "source": [
    "np.mean(cross_val_score(GB_regr, X_enc, y, scoring = mae_scorer, cv=4))"
   ]
  },
  {
   "cell_type": "markdown",
   "metadata": {
    "id": "T4mVlb6u06Po"
   },
   "source": [
    "## Extracing Feature Importance for Model 1"
   ]
  },
  {
   "cell_type": "code",
   "execution_count": 14,
   "metadata": {
    "id": "aUVV0NASir-N"
   },
   "outputs": [],
   "source": [
    "importances = GB_regr.feature_importances_\n",
    "indices = np.argsort(importances)\n",
    "feature_names = sup_vec.get_feature_names()\n",
    "feature_names[:8]\n",
    "indices = list(reversed(indices))"
   ]
  },
  {
   "cell_type": "code",
   "execution_count": 15,
   "metadata": {
    "colab": {
     "base_uri": "https://localhost:8080/",
     "height": 659
    },
    "executionInfo": {
     "elapsed": 791,
     "status": "ok",
     "timestamp": 1654683458441,
     "user": {
      "displayName": "Aiden Sui",
      "userId": "14271933019255603823"
     },
     "user_tz": 420
    },
    "id": "bAWgebKVitF5",
    "outputId": "54510720-56aa-4ad2-89e6-8d47d2448b04"
   },
   "outputs": [
    {
     "data": {
      "image/png": "[encoded data removed]",
      "text/plain": [
       "<Figure size 864x648 with 1 Axes>"
      ]
     },
     "metadata": {
      "needs_background": "light"
     },
     "output_type": "display_data"
    }
   ],
   "source": [
    "plt.figure(figsize=(12, 9))\n",
    "plt.title(\"Feature importances\")\n",
    "n = 10\n",
    "n_indices = indices[:n]\n",
    "labels = np.array(feature_names)[n_indices]\n",
    "plt.barh(range(n), importances[n_indices], color=\"b\")\n",
    "plt.yticks(range(n), labels, size=15)\n",
    "plt.tight_layout(pad=1)\n",
    "plt.show()"
   ]
  },
  {
   "cell_type": "markdown",
   "metadata": {
    "id": "774H-VK51DpN"
   },
   "source": [
    "## Reddit Data Importing and Cleansing"
   ]
  },
  {
   "cell_type": "code",
   "execution_count": 16,
   "metadata": {
    "colab": {
     "base_uri": "https://localhost:8080/",
     "height": 424
    },
    "executionInfo": {
     "elapsed": 4,
     "status": "ok",
     "timestamp": 1654683458441,
     "user": {
      "displayName": "Aiden Sui",
      "userId": "14271933019255603823"
     },
     "user_tz": 420
    },
    "id": "ows92ywSq_Ej",
    "outputId": "b49d2363-364f-4a16-8af5-1650d57edfaa"
   },
   "outputs": [
    {
     "data": {
      "text/html": [
       "<div>\n",
       "<style scoped>\n",
       "    .dataframe tbody tr th:only-of-type {\n",
       "        vertical-align: middle;\n",
       "    }\n",
       "\n",
       "    .dataframe tbody tr th {\n",
       "        vertical-align: top;\n",
       "    }\n",
       "\n",
       "    .dataframe thead th {\n",
       "        text-align: right;\n",
       "    }\n",
       "</style>\n",
       "<table border=\"1\" class=\"dataframe\">\n",
       "  <thead>\n",
       "    <tr style=\"text-align: right;\">\n",
       "      <th></th>\n",
       "      <th>game_name</th>\n",
       "      <th>body</th>\n",
       "    </tr>\n",
       "  </thead>\n",
       "  <tbody>\n",
       "    <tr>\n",
       "      <th>0</th>\n",
       "      <td>Minecraft</td>\n",
       "      <td>In a way, I'm happy people still give them awa...</td>\n",
       "    </tr>\n",
       "    <tr>\n",
       "      <th>1</th>\n",
       "      <td>Minecraft</td>\n",
       "      <td>she was made by those who mine, and the miners...</td>\n",
       "    </tr>\n",
       "    <tr>\n",
       "      <th>2</th>\n",
       "      <td>Minecraft</td>\n",
       "      <td>I've also seen Armin, Tiesto, Cosmic Gate, Bla...</td>\n",
       "    </tr>\n",
       "    <tr>\n",
       "      <th>3</th>\n",
       "      <td>Minecraft</td>\n",
       "      <td>\\n[Done!](http://getsatisfaction.com/mojang/to...</td>\n",
       "    </tr>\n",
       "    <tr>\n",
       "      <th>4</th>\n",
       "      <td>Minecraft</td>\n",
       "      <td>Yes I do the exact same thing. Heres my [hole]...</td>\n",
       "    </tr>\n",
       "    <tr>\n",
       "      <th>...</th>\n",
       "      <td>...</td>\n",
       "      <td>...</td>\n",
       "    </tr>\n",
       "    <tr>\n",
       "      <th>7440</th>\n",
       "      <td>Let It Die</td>\n",
       "      <td>It's up! Downloading now.</td>\n",
       "    </tr>\n",
       "    <tr>\n",
       "      <th>7441</th>\n",
       "      <td>Let It Die</td>\n",
       "      <td>It's up now, downloading it!</td>\n",
       "    </tr>\n",
       "    <tr>\n",
       "      <th>7442</th>\n",
       "      <td>Let It Die</td>\n",
       "      <td>Let It Die is now available on the NA PlayStat...</td>\n",
       "    </tr>\n",
       "    <tr>\n",
       "      <th>7443</th>\n",
       "      <td>Let It Die</td>\n",
       "      <td>Still not available in The Netherlands (Europe)</td>\n",
       "    </tr>\n",
       "    <tr>\n",
       "      <th>7444</th>\n",
       "      <td>Let It Die</td>\n",
       "      <td>Still nothing here today, even though some peo...</td>\n",
       "    </tr>\n",
       "  </tbody>\n",
       "</table>\n",
       "<p>7445 rows × 2 columns</p>\n",
       "</div>"
      ],
      "text/plain": [
       "       game_name                                               body\n",
       "0      Minecraft  In a way, I'm happy people still give them awa...\n",
       "1      Minecraft  she was made by those who mine, and the miners...\n",
       "2      Minecraft  I've also seen Armin, Tiesto, Cosmic Gate, Bla...\n",
       "3      Minecraft  \\n[Done!](http://getsatisfaction.com/mojang/to...\n",
       "4      Minecraft  Yes I do the exact same thing. Heres my [hole]...\n",
       "...          ...                                                ...\n",
       "7440  Let It Die                          It's up! Downloading now.\n",
       "7441  Let It Die                       It's up now, downloading it!\n",
       "7442  Let It Die  Let It Die is now available on the NA PlayStat...\n",
       "7443  Let It Die    Still not available in The Netherlands (Europe)\n",
       "7444  Let It Die  Still nothing here today, even though some peo...\n",
       "\n",
       "[7445 rows x 2 columns]"
      ]
     },
     "execution_count": 16,
     "metadata": {},
     "output_type": "execute_result"
    }
   ],
   "source": [
    "reddit_data = pd.read_csv(\"./Data/reddit_comments_sample_2.csv\", encoding=\"ISO-8859-1\")[['game_name', 'body']]\n",
    "reddit_data = reddit_data.dropna()\n",
    "reddit_data"
   ]
  },
  {
   "cell_type": "code",
   "execution_count": 17,
   "metadata": {
    "id": "qgV6AWYXr39X"
   },
   "outputs": [],
   "source": [
    "def get_comments(data, name_col, token_col):\n",
    "  comments = dict()\n",
    "  for index, row in data.iterrows():\n",
    "    name = row[name_col]\n",
    "    if name not in comments.keys():\n",
    "      comments[name] = []\n",
    "    s = row[token_col]\n",
    "    if s != \"[deleted]\" and \"http\" not in s:\n",
    "      comments[name].append(str(s))\n",
    "  return comments\n",
    "\n",
    "reddit_comments = get_comments(reddit_data, \"game_name\", \"body\")"
   ]
  },
  {
   "cell_type": "code",
   "execution_count": 18,
   "metadata": {
    "colab": {
     "base_uri": "https://localhost:8080/"
    },
    "executionInfo": {
     "elapsed": 7,
     "status": "ok",
     "timestamp": 1654683458918,
     "user": {
      "displayName": "Aiden Sui",
      "userId": "14271933019255603823"
     },
     "user_tz": 420
    },
    "id": "6m0POfRKr6jd",
    "outputId": "2b7f7c4c-a89b-43c4-bad0-f1e4581a7105"
   },
   "outputs": [
    {
     "data": {
      "text/plain": [
       "[\"In a way, I'm happy people still give them away. There's still some innocence when jerkoffs like this guy exist.\",\n",
       " 'she was made by those who mine, and the miners keep her!',\n",
       " \"I've also seen Armin, Tiesto, Cosmic Gate, Blank and jones, Ferry Corsten(three times), Freddie le Grande, Deadmau5, Filo and Pero, and a few more. &lt;3\",\n",
       " \"I think it has a lot to do with the fact that I play on Hard.  If I die and I have to walk for 8 in-game days to my project, well - let's just say I won't be finding my diamond picks.\\n\\nMovable spawn points at a high cost would fix this, I think.  Since either way, we're playing close to our spawn points, might as well let us explore a bit.\\n\\nAnd nether, minecarts, and boats just aren't enough to relieve this pressure.\",\n",
       " 'Yes, so stop posting codes in plaintext!\\n\\nWhy on Earth people want to gift extra licenses to cheaters and trolls is beyond me.  Do something creative to gift randomly, or gift to people who are deserving and skint!',\n",
       " 'At this point Minecraft is more of a toy than a game, if that makes sense.',\n",
       " 'I can dig it.',\n",
       " 'Imagine this situation:\\n\\nYou\\'re playing with legos, or some sort of self build blocks. You decide to create tools out of legos, and enemies with legos to attack your lego avatar. Your lego avatar goes around to make shelter with his lego tools, to find better tools and defend himself better against lego enemies. But then you realize your imagination goes beyond that, you think \"Fuck enemies, I\\'m going to build\". So you begin to build the most magnificent tower made out of all the materials you collected while fighting the enemy. Then you decide you\\'re running out of materials, so you find more materials around and carve out a hole in your lego box for lego blocks. And you build stairs, to the lego box to dig for more legos, but you find your enemies in there aswell... This goes on forever. and should be a meta-physical representation of Minecraft singleplayer. Then your friends join your game of lego block avatar digging adventure against exploding enemies that destroy your towers. That is a representation of Minecraft SMP.',\n",
       " 'The ideas I liked were:\\n\\nRedstone circuit table where you compress complex circuits down into a single block.\\n\\nRobots that use the logic and some fuel to do work for you.',\n",
       " 'upvoted here and on getsatisfaction :D']"
      ]
     },
     "execution_count": 18,
     "metadata": {},
     "output_type": "execute_result"
    }
   ],
   "source": [
    "reddit_comments[\"Minecraft\"][:10]"
   ]
  },
  {
   "cell_type": "markdown",
   "metadata": {
    "id": "EVOe4nlF1fBI"
   },
   "source": [
    "## Building Word2Vec Model using Word Tokens from Reddit Data"
   ]
  },
  {
   "cell_type": "code",
   "execution_count": 19,
   "metadata": {},
   "outputs": [
    {
     "name": "stdout",
     "output_type": "stream",
     "text": [
      "Requirement already satisfied: gensim in d:\\anaconda3\\lib\\site-packages (4.2.0)\n",
      "Requirement already satisfied: Cython==0.29.28 in d:\\anaconda3\\lib\\site-packages (from gensim) (0.29.28)\n",
      "Requirement already satisfied: smart-open>=1.8.1 in d:\\anaconda3\\lib\\site-packages (from gensim) (6.0.0)\n",
      "Requirement already satisfied: numpy>=1.17.0 in d:\\anaconda3\\lib\\site-packages (from gensim) (1.21.2)\n",
      "Requirement already satisfied: scipy>=0.18.1 in d:\\anaconda3\\lib\\site-packages (from gensim) (1.7.1)\n"
     ]
    },
    {
     "name": "stderr",
     "output_type": "stream",
     "text": [
      "WARNING: Ignoring invalid distribution -ip (d:\\anaconda3\\lib\\site-packages)\n",
      "WARNING: Ignoring invalid distribution -ip (d:\\anaconda3\\lib\\site-packages)\n",
      "WARNING: Ignoring invalid distribution -ip (d:\\anaconda3\\lib\\site-packages)\n",
      "WARNING: Ignoring invalid distribution -ip (d:\\anaconda3\\lib\\site-packages)\n",
      "WARNING: Ignoring invalid distribution -ip (d:\\anaconda3\\lib\\site-packages)\n",
      "WARNING: Ignoring invalid distribution -ip (d:\\anaconda3\\lib\\site-packages)\n"
     ]
    }
   ],
   "source": [
    "!pip install gensim"
   ]
  },
  {
   "cell_type": "code",
   "execution_count": 20,
   "metadata": {},
   "outputs": [
    {
     "name": "stdout",
     "output_type": "stream",
     "text": [
      "Requirement already satisfied: gensim in d:\\anaconda3\\lib\\site-packages (4.2.0)\n",
      "Requirement already satisfied: Cython==0.29.28 in d:\\anaconda3\\lib\\site-packages (from gensim) (0.29.28)\n",
      "Requirement already satisfied: smart-open>=1.8.1 in d:\\anaconda3\\lib\\site-packages (from gensim) (6.0.0)\n",
      "Requirement already satisfied: numpy>=1.17.0 in d:\\anaconda3\\lib\\site-packages (from gensim) (1.21.2)\n",
      "Requirement already satisfied: scipy>=0.18.1 in d:\\anaconda3\\lib\\site-packages (from gensim) (1.7.1)\n"
     ]
    },
    {
     "name": "stderr",
     "output_type": "stream",
     "text": [
      "WARNING: Ignoring invalid distribution -ip (d:\\anaconda3\\lib\\site-packages)\n",
      "WARNING: Ignoring invalid distribution -ip (d:\\anaconda3\\lib\\site-packages)\n",
      "WARNING: Ignoring invalid distribution -ip (d:\\anaconda3\\lib\\site-packages)\n",
      "WARNING: Ignoring invalid distribution -ip (d:\\anaconda3\\lib\\site-packages)\n",
      "WARNING: Ignoring invalid distribution -ip (d:\\anaconda3\\lib\\site-packages)\n",
      "WARNING: Ignoring invalid distribution -ip (d:\\anaconda3\\lib\\site-packages)\n"
     ]
    }
   ],
   "source": [
    "!pip install --upgrade gensim"
   ]
  },
  {
   "cell_type": "code",
   "execution_count": 21,
   "metadata": {
    "id": "_7367ZH7r7Kq"
   },
   "outputs": [],
   "source": [
    "from gensim.models import Word2Vec\n",
    "from gensim.test.utils import common_texts\n",
    "\n",
    "import nltk\n",
    "import gensim\n",
    "from tqdm import tqdm\n",
    "tqdm.pandas(desc=\"progress-bar\")\n",
    "\n",
    "from nltk.tokenize import TweetTokenizer\n",
    "tokenizer = TweetTokenizer()"
   ]
  },
  {
   "cell_type": "code",
   "execution_count": 22,
   "metadata": {
    "id": "Mwjk5JLKsDgo"
   },
   "outputs": [],
   "source": [
    "def tokenize(tweet):\n",
    "  tweet = tweet.lower()\n",
    "  tokens = tokenizer.tokenize(tweet)\n",
    "  tokens = filter(lambda t: t.isalpha(), tokens)\n",
    "  tokens = filter(lambda t: not t.startswith('http'), tokens)\n",
    "  tokens = filter(lambda t: len(t) > 1, tokens)\n",
    "  return list(tokens)"
   ]
  },
  {
   "cell_type": "code",
   "execution_count": 23,
   "metadata": {
    "colab": {
     "base_uri": "https://localhost:8080/",
     "height": 442
    },
    "executionInfo": {
     "elapsed": 767,
     "status": "ok",
     "timestamp": 1654683459682,
     "user": {
      "displayName": "Aiden Sui",
      "userId": "14271933019255603823"
     },
     "user_tz": 420
    },
    "id": "dim3XbEGsEby",
    "outputId": "adf4d7f7-4e82-4fa0-ff58-5f889be20544"
   },
   "outputs": [
    {
     "name": "stderr",
     "output_type": "stream",
     "text": [
      "progress-bar: 100%|██████████| 7445/7445 [00:00<00:00, 9742.57it/s] \n"
     ]
    },
    {
     "data": {
      "text/html": [
       "<div>\n",
       "<style scoped>\n",
       "    .dataframe tbody tr th:only-of-type {\n",
       "        vertical-align: middle;\n",
       "    }\n",
       "\n",
       "    .dataframe tbody tr th {\n",
       "        vertical-align: top;\n",
       "    }\n",
       "\n",
       "    .dataframe thead th {\n",
       "        text-align: right;\n",
       "    }\n",
       "</style>\n",
       "<table border=\"1\" class=\"dataframe\">\n",
       "  <thead>\n",
       "    <tr style=\"text-align: right;\">\n",
       "      <th></th>\n",
       "      <th>game_name</th>\n",
       "      <th>body</th>\n",
       "      <th>tokenized</th>\n",
       "    </tr>\n",
       "  </thead>\n",
       "  <tbody>\n",
       "    <tr>\n",
       "      <th>0</th>\n",
       "      <td>Minecraft</td>\n",
       "      <td>In a way, I'm happy people still give them awa...</td>\n",
       "      <td>[in, way, happy, people, still, give, them, aw...</td>\n",
       "    </tr>\n",
       "    <tr>\n",
       "      <th>1</th>\n",
       "      <td>Minecraft</td>\n",
       "      <td>she was made by those who mine, and the miners...</td>\n",
       "      <td>[she, was, made, by, those, who, mine, and, th...</td>\n",
       "    </tr>\n",
       "    <tr>\n",
       "      <th>2</th>\n",
       "      <td>Minecraft</td>\n",
       "      <td>I've also seen Armin, Tiesto, Cosmic Gate, Bla...</td>\n",
       "      <td>[also, seen, armin, tiesto, cosmic, gate, blan...</td>\n",
       "    </tr>\n",
       "    <tr>\n",
       "      <th>3</th>\n",
       "      <td>Minecraft</td>\n",
       "      <td>\\n[Done!](http://getsatisfaction.com/mojang/to...</td>\n",
       "      <td>[done]</td>\n",
       "    </tr>\n",
       "    <tr>\n",
       "      <th>4</th>\n",
       "      <td>Minecraft</td>\n",
       "      <td>Yes I do the exact same thing. Heres my [hole]...</td>\n",
       "      <td>[yes, do, the, exact, same, thing, heres, my, ...</td>\n",
       "    </tr>\n",
       "    <tr>\n",
       "      <th>...</th>\n",
       "      <td>...</td>\n",
       "      <td>...</td>\n",
       "      <td>...</td>\n",
       "    </tr>\n",
       "    <tr>\n",
       "      <th>7440</th>\n",
       "      <td>Let It Die</td>\n",
       "      <td>It's up! Downloading now.</td>\n",
       "      <td>[up, downloading, now]</td>\n",
       "    </tr>\n",
       "    <tr>\n",
       "      <th>7441</th>\n",
       "      <td>Let It Die</td>\n",
       "      <td>It's up now, downloading it!</td>\n",
       "      <td>[up, now, downloading, it]</td>\n",
       "    </tr>\n",
       "    <tr>\n",
       "      <th>7442</th>\n",
       "      <td>Let It Die</td>\n",
       "      <td>Let It Die is now available on the NA PlayStat...</td>\n",
       "      <td>[let, it, die, is, now, available, on, the, na...</td>\n",
       "    </tr>\n",
       "    <tr>\n",
       "      <th>7443</th>\n",
       "      <td>Let It Die</td>\n",
       "      <td>Still not available in The Netherlands (Europe)</td>\n",
       "      <td>[still, not, available, in, the, netherlands, ...</td>\n",
       "    </tr>\n",
       "    <tr>\n",
       "      <th>7444</th>\n",
       "      <td>Let It Die</td>\n",
       "      <td>Still nothing here today, even though some peo...</td>\n",
       "      <td>[still, nothing, here, today, even, though, so...</td>\n",
       "    </tr>\n",
       "  </tbody>\n",
       "</table>\n",
       "<p>7445 rows × 3 columns</p>\n",
       "</div>"
      ],
      "text/plain": [
       "       game_name                                               body  \\\n",
       "0      Minecraft  In a way, I'm happy people still give them awa...   \n",
       "1      Minecraft  she was made by those who mine, and the miners...   \n",
       "2      Minecraft  I've also seen Armin, Tiesto, Cosmic Gate, Bla...   \n",
       "3      Minecraft  \\n[Done!](http://getsatisfaction.com/mojang/to...   \n",
       "4      Minecraft  Yes I do the exact same thing. Heres my [hole]...   \n",
       "...          ...                                                ...   \n",
       "7440  Let It Die                          It's up! Downloading now.   \n",
       "7441  Let It Die                       It's up now, downloading it!   \n",
       "7442  Let It Die  Let It Die is now available on the NA PlayStat...   \n",
       "7443  Let It Die    Still not available in The Netherlands (Europe)   \n",
       "7444  Let It Die  Still nothing here today, even though some peo...   \n",
       "\n",
       "                                              tokenized  \n",
       "0     [in, way, happy, people, still, give, them, aw...  \n",
       "1     [she, was, made, by, those, who, mine, and, th...  \n",
       "2     [also, seen, armin, tiesto, cosmic, gate, blan...  \n",
       "3                                                [done]  \n",
       "4     [yes, do, the, exact, same, thing, heres, my, ...  \n",
       "...                                                 ...  \n",
       "7440                             [up, downloading, now]  \n",
       "7441                         [up, now, downloading, it]  \n",
       "7442  [let, it, die, is, now, available, on, the, na...  \n",
       "7443  [still, not, available, in, the, netherlands, ...  \n",
       "7444  [still, nothing, here, today, even, though, so...  \n",
       "\n",
       "[7445 rows x 3 columns]"
      ]
     },
     "execution_count": 23,
     "metadata": {},
     "output_type": "execute_result"
    }
   ],
   "source": [
    "reddit_data['tokenized'] = reddit_data['body'].progress_map(tokenize)\n",
    "reddit_data"
   ]
  },
  {
   "cell_type": "code",
   "execution_count": 24,
   "metadata": {
    "id": "gOixAv-Hsbat"
   },
   "outputs": [],
   "source": [
    "TaggedDocument = gensim.models.doc2vec.TaggedDocument\n",
    "X = np.array(reddit_data.tokenized)"
   ]
  },
  {
   "cell_type": "code",
   "execution_count": 25,
   "metadata": {
    "colab": {
     "base_uri": "https://localhost:8080/"
    },
    "executionInfo": {
     "elapsed": 5255,
     "status": "ok",
     "timestamp": 1654683464932,
     "user": {
      "displayName": "Aiden Sui",
      "userId": "14271933019255603823"
     },
     "user_tz": 420
    },
    "id": "pqulXdxksbeT",
    "outputId": "ae1137fb-23ef-4e38-9d27-c0dfe291d932"
   },
   "outputs": [
    {
     "name": "stderr",
     "output_type": "stream",
     "text": [
      "100%|██████████| 7445/7445 [00:00<00:00, 3721438.84it/s]\n",
      "100%|██████████| 7445/7445 [00:00<00:00, 7441990.77it/s]\n"
     ]
    },
    {
     "data": {
      "text/plain": [
       "(743285, 954095)"
      ]
     },
     "execution_count": 25,
     "metadata": {},
     "output_type": "execute_result"
    }
   ],
   "source": [
    "redd_w2v = Word2Vec(vector_size=100, min_count=1)\n",
    "redd_w2v.build_vocab([x for x in tqdm(X)])\n",
    "redd_w2v.train([x for x in tqdm(X)], total_examples=redd_w2v.corpus_count, epochs=redd_w2v.epochs)"
   ]
  },
  {
   "cell_type": "code",
   "execution_count": 26,
   "metadata": {
    "colab": {
     "base_uri": "https://localhost:8080/"
    },
    "executionInfo": {
     "elapsed": 4,
     "status": "ok",
     "timestamp": 1654683464933,
     "user": {
      "displayName": "Aiden Sui",
      "userId": "14271933019255603823"
     },
     "user_tz": 420
    },
    "id": "pxd4JSGns2Gi",
    "outputId": "7f7f69e8-c979-4f0e-f9f0-ceb9c1a8ab0a"
   },
   "outputs": [
    {
     "data": {
      "text/plain": [
       "[('great', 0.9988512992858887),\n",
       " ('amazing', 0.9986017942428589),\n",
       " ('awesome', 0.9983112812042236),\n",
       " ('nice', 0.9982173442840576),\n",
       " ('interesting', 0.9981061816215515),\n",
       " ('too', 0.9980556964874268),\n",
       " ('fun', 0.9975377917289734),\n",
       " ('definitely', 0.9975261092185974),\n",
       " ('though', 0.997437059879303),\n",
       " ('fine', 0.9974284172058105)]"
      ]
     },
     "execution_count": 26,
     "metadata": {},
     "output_type": "execute_result"
    }
   ],
   "source": [
    "redd_w2v.wv.most_similar('good')"
   ]
  },
  {
   "cell_type": "code",
   "execution_count": 27,
   "metadata": {
    "id": "f0HP2eiiuW1d"
   },
   "outputs": [],
   "source": [
    "def get_tokenized_comments(data, name_col, token_col):\n",
    "  comments = dict()\n",
    "  for index, row in data.iterrows():\n",
    "    name = row[name_col]\n",
    "    if name not in comments.keys():\n",
    "      comments[name] = []\n",
    "    for s in row[token_col]:\n",
    "      if s.isalpha() and len(s) > 2:\n",
    "        comments[name].append(s)\n",
    "  return comments\n",
    "\n",
    "tokenized_reddit_comments = get_tokenized_comments(reddit_data, \"game_name\", \"tokenized\")"
   ]
  },
  {
   "cell_type": "code",
   "execution_count": 28,
   "metadata": {
    "colab": {
     "base_uri": "https://localhost:8080/"
    },
    "executionInfo": {
     "elapsed": 4,
     "status": "ok",
     "timestamp": 1654683466759,
     "user": {
      "displayName": "Aiden Sui",
      "userId": "14271933019255603823"
     },
     "user_tz": 420
    },
    "id": "4pxRkih3uW63",
    "outputId": "f2964964-21d5-462e-89b4-ce0971853e63"
   },
   "outputs": [
    {
     "name": "stdout",
     "output_type": "stream",
     "text": [
      "60 Seconds! ['deleted', 'test', 'test', 'paragraph', 'from', 'the', 'ancient', 'greek', 'paragraphos', 'write', 'beside', 'written', 'beside', 'unit', 'discourse', 'writing', 'dealing', 'with', 'particular', 'point', 'idea', 'paragraph', 'consists', 'one', 'more', 'sentences', 'paragraph', 'from', 'the', 'ancient', 'greek', 'paragraphos', 'write', 'beside', 'written', 'beside', 'unit', 'discourse', 'writing', 'dealing', 'with', 'particular', 'point', 'idea', 'paragraph', 'consists', 'one', 'more', 'sentences', 'paragraph', 'from', 'the', 'ancient', 'greek', 'paragraphos', 'write', 'beside', 'written', 'beside', 'unit', 'discourse', 'writing', 'dealing', 'with', 'particular', 'point', 'idea', 'paragraph', 'consists', 'one', 'more', 'sentences', 'paragraph', 'from', 'the', 'ancient', 'greek', 'paragraphos', 'write', 'beside', 'written', 'beside', 'unit', 'discourse', 'writing', 'dealing', 'with', 'particular', 'point', 'idea', 'paragraph', 'consists', 'one', 'more', 'sentences', 'paragraph', 'from', 'the', 'ancient', 'greek', 'paragraphos', 'write', 'beside', 'written', 'beside', 'unit', 'discourse', 'writing', 'dealing', 'with', 'particular', 'point', 'idea', 'paragraph', 'consists', 'one', 'more', 'sentences', 'paragraph', 'from', 'the', 'ancient', 'greek', 'paragraphos', 'write', 'beside', 'written', 'beside', 'unit', 'discourse', 'writing', 'dealing', 'with', 'particular', 'point', 'idea', 'paragraph', 'consists', 'one', 'more', 'sentences', 'paragraph', 'from', 'the', 'ancient', 'greek', 'paragraphos', 'write', 'beside', 'written', 'beside', 'unit', 'discourse', 'writing', 'dealing', 'with', 'particular', 'point', 'idea', 'paragraph', 'consists', 'one', 'more', 'sentences', 'paragraph', 'from', 'the', 'ancient', 'greek', 'paragraphos', 'write', 'beside', 'written', 'beside', 'unit', 'discourse', 'writing', 'dealing', 'with', 'particular', 'point', 'idea', 'paragraph', 'consists', 'one', 'more', 'sentences', 'paragraph', 'from', 'the', 'ancient', 'greek', 'paragraphos', 'write', 'beside', 'written', 'beside', 'unit', 'discourse', 'writing', 'dealing', 'with', 'particular', 'point', 'idea', 'paragraph', 'consists', 'one', 'more', 'sentences', 'paragraph', 'from', 'the', 'ancient', 'greek', 'paragraphos', 'write', 'beside', 'written', 'beside', 'unit', 'discourse', 'writing', 'dealing', 'with', 'particular', 'point', 'idea', 'paragraph', 'consists', 'one', 'more', 'sentences', 'paragraph', 'from', 'the', 'ancient', 'greek', 'paragraphos', 'write', 'beside', 'written', 'beside', 'unit', 'discourse', 'writing', 'dealing', 'with', 'particular', 'point', 'idea', 'paragraph', 'consists', 'one', 'more', 'sentences', 'paragraph', 'from', 'the', 'ancient', 'greek', 'paragraphos', 'write', 'beside', 'written', 'beside', 'unit', 'discourse', 'writing', 'dealing', 'with', 'particular', 'point', 'idea', 'paragraph', 'consists', 'one', 'more', 'sentences', 'paragraph', 'from', 'the', 'ancient', 'greek', 'paragraphos', 'write', 'beside', 'written', 'beside', 'unit', 'discourse', 'writing', 'dealing', 'with', 'particular', 'point', 'idea', 'paragraph', 'consists', 'one', 'more', 'sentences', 'paragraph', 'from', 'the', 'ancient', 'greek', 'paragraphos', 'write', 'beside', 'written', 'beside', 'unit', 'discourse', 'writing', 'dealing', 'with', 'particular', 'point', 'idea', 'paragraph', 'consists', 'one', 'more', 'sentences', 'paragraph', 'from', 'the', 'ancient', 'greek', 'paragraphos', 'write', 'beside', 'written', 'beside', 'unit', 'discourse', 'writing', 'dealing', 'with', 'particular', 'point', 'idea', 'paragraph', 'consists', 'one', 'more', 'sentences', 'paragraph', 'from', 'the', 'ancient', 'greek', 'paragraphos', 'write', 'beside', 'written', 'beside', 'unit', 'discourse', 'writing', 'dealing', 'with', 'particular', 'point', 'idea', 'paragraph', 'consists', 'one', 'more', 'sentences', 'paragraph', 'from', 'the', 'ancient', 'greek', 'paragraphos', 'write', 'beside', 'written', 'beside', 'unit', 'discourse', 'writing', 'dealing', 'with', 'particular', 'point', 'idea', 'paragraph', 'consists', 'one', 'more', 'sentences']\n",
      "7 Days to Die ['yes', 'the', 'forum', 'they', 'have', 'mentioned', 'custom', 'texture', 'packs', 'also', 'modding', 'sweet', 'loving', 'the', 'last', 'part', 'the', 'video', 'into', 'the', 'forest', 'with', 'all', 'that', 'creepy', 'traps', 'and', 'course', 'the', 'jumping', 'deer', 'awesome', 'awesome', 'awesome', 'yes', 'yea', 'this', 'getting', 'weird', 'please', 'post', 'screenshot', 'pre', 'ordered', 'the', 'one', 'that', 'was', 'before', 'the', 'kickstarter', 'and', 'didnt', 'even', 'get', 'email', 'any', 'acknowledgement', 'besides', 'paypal', 'you', 'make', 'game', 'that', 'popular', 'that', 'busy', 'replying', 'people', 'sure', 'going', 'get', 'late', 'july', 'very', 'early', 'august', 'nothing', 'worry', 'about', 'let', 'them', 'their', 'job', 'and', 'finish', 'the', 'alpha', 'cant', 'wait', 'looks', 'promising', 'how', 'did', 'get', 'the', 'pre', 'alpha', 'huge', 'survival', 'games', 'video', 'maker', 'helped', 'make', 'dayz', 'popular', 'through', 'his', 'videos', 'thus', 'people', 'like', 'the', 'gary', 'newman', 'and', 'others', 'are', 'giving', 'him', 'their', 'games', 'for', 'free', 'return', 'for', 'the', 'free', 'advertising', 'this', 'game', 'looking', 'more', 'and', 'more', 'intersting', 'have', 'nothing', 'but', 'love', 'for', 'just', 'feel', 'not', 'getting', 'enough', 'attention', 'same', 'feelings', 'toward', 'this', 'subreddit', 'need', 'like', 'roosterteeth', 'yogscast', 'btw', 'hate', 'those', 'guys', 'after', 'their', 'cubeworld', 'videos', 'really', 'blow', 'this', 'out', 'the', 'water', 'really', 'looking', 'forward', 'this', 'well', 'since', 'they', 'released', 'the', 'alpha', 'these', 'guys', 'youtube', 'the', 'kickstarter', 'has', 'went', 'from', 'almost', 'two', 'days', 'hope', 'hits', 'its', 'goal', 'was', 'glad', 'see', 'devildog', 'made', 'effort', 'build', 'defensible', 'position', 'for', 'the', 'night', 'also', 'glad', 'see', 'that', 'ultimately', 'failed', 'really', 'think', 'you', 'will', 'build', 'house', 'from', 'what', 'see', 'seems', 'like', 'you', 'just', 'fortify', 'pre', 'made', 'house', 'and', 'defend', 'against', 'zombies', 'and', 'other', 'players', 'bought', 'the', 'package', 'and', 'got', 'email', 'from', 'them', 'saying', 'get', 'registration', 'stuff', 'and', 'link', 'download', 'when', 'the', 'alpha', 'starts', 'end', 'this', 'month', 'start', 'september', 'direct', 'quote', 'thank', 'you', 'for', 'braving', 'the', 'rugged', 'zombie', 'infested', 'terrain', 'navezgane', 'scavenge', 'the', 'ultimate', 'prize', 'loot', 'you', 'bought', 'the', 'alpha', 'contacting', 'you', 'again', 'email', 'late', 'august', 'early', 'september', 'with', 'registration', 'link', 'and', 'link', 'download', 'was', 'under', 'the', 'impression', 'that', 'the', 'alpha', 'had', 'already', 'started', 'thanks', 'for', 'the', 'feedback', 'nah', 'today', 'the', 'kickstarter', 'update', 'saw', 'that', 'account', 'registration', 'and', 'client', 'downloads', 'will', 'given', 'via', 'email', 'hopefully', 'aug', 'did', 'news', 'piece', 'channel', 'get', 'people', 'fund', 'the', 'kickstarter', 'excited', 'for', 'the', 'looks', 'like', 'providing', 'early', 'access', 'the', 'alpha', 'for', 'youtube', 'reviewers', 'generate', 'interest', 'which', 'worked', 'case', 'funding', 'today', 'well', 'link', 'please', 'would', 'like', 'watch', 'your', 'video']\n",
      "A Hat in Time ['would', 'like', 'thank', 'cmckzee', 'for', 'allowing', 'spam', 'his', 'inbox', 'with', 'million', 'image', 'files', 'game', 'looks', 'super', 'fun', 'they', 'are', 'trying', 'get', 'release', 'wii', 'form', 'what', 'hear', 'there', 'going', 'controller', 'support', 'far', 'know', 'have', 'been', 'looking', 'and', 'can', 'find', 'nothing', 'other', 'than', 'that', 'they', 'are', 'working', 'feel', 'free', 'say', 'any', 'this', 'wrong', 'pretty', 'sure', 'they', 'said', 'some', 'time', 'when', 'released', 'kickstarter', 'says', 'that', 'people', 'will', 'given', 'their', 'stuff', 'february', 'could', 'longer', 'than', 'that', 'but', 'around', 'that', 'time', 'what', 'the', 'lead', 'developer', 'estimated', 'think', 'will', 'probably', 'take', 'longer', 'they', 'got', 'enough', 'cash', 'fill', 'the', 'game', 'with', 'tons', 'amazing', 'things', 'and', 'polish', 'them', 'perfection', 'from', 'that', 'picture', 'looks', 'like', 'alice', 'wonderland', 'vibe', 'with', 'the', 'cards', 'and', 'mention', 'queen', 'could', 'also', 'something', 'like', 'room', 'since', 'the', 'game', 'feels', 'little', 'really', 'love', 'this', 'update', 'looks', 'absolutely', 'fantastic', 'game', 'utc', 'currently', 'working', 'segments', 'sorry', 'about', 'the', 'lack', 'screenshots', 'and', 'videos', 'alpha', 'info', 'end', 'month', 'mistake', 'leave', 'above', 'link', 'unaltered', 'suggestion', 'faq', 'code', 'issues', 'sadly', 'only', 'got', 'physical', 'well', 'this', 'game', 'fucking', 'gorgeous', 'really', 'hope', 'they', 'allow', 'some', 'sort', 'user', 'content', 'enabler', 'that', 'can', 'keep', 'the', 'game', 'going', 'for', 'long', 'time', 'yesyesyesyes', 'really', 'excited', 'and', 'cant', 'wait', 'try', 'out', 'the', 'steam', 'workshop', 'paid', 'for', 'the', 'seventy', 'dollar', 'tier', 'the', 'kickstarter', 'and', 'been', 'following', 'the', 'game', 'since', 'before', 'then', 'when', 'saw', 'the', 'footage', 'went', 'straight', 'the', 'kickstarter', 'and', 'paid', 'and', 'been', 'awaiting', 'the', 'alpha', 'excitement', 'cannot', 'contained', 'hello', 'new', 'final', 'level', 'deleted', 'only', 'being', 'delayed', 'for', 'kickstarters', 'you', 'bought', 'through', 'the', 'hat', 'time', 'website', 'will', 'still', 'delayed', 'deleted', 'hmm', 'backed', 'the', 'tier', 'the', 'kickstarter', 'but', 'purchased', 'the', 'alpha', 'access', 'through', 'their', 'upgrade', 'page', 'wonder', 'that', 'will', 'get', 'delayed', 'well', 'also', 'wonder', 'what', 'time', 'going', 'release', 'utc', 'just', 'performing', 'some', 'last', 'server', 'checks', 'make', 'sure', 'everything', 'alright', 'before', 'send', 'mistake', 'leave', 'above', 'link', 'unaltered', 'suggestion', 'faq', 'code', 'issues']\n",
      "A Plague Tale: Innocence ['knew', 'nothing', 'about', 'this', 'game', 'but', 'the', 'trailers', 'have', 'got', 'hooked', 'love', 'the', 'setting', 'dont', 'see', 'why', 'there', 'was', 'need', 'put', 'spoilers', 'your', 'title', 'actual', 'spoilers', 'not', 'the', 'word', 'wtf', 'wrong', 'with', 'you', 'this', 'was', 'story', 'prediction', 'made', 'month', 'before', 'the', 'game', 'came', 'out', 'ergo', 'know', 'would', 'right', 'educated', 'guess', 'this', 'was', 'story', 'prediction', 'made', 'month', 'before', 'the', 'game', 'came', 'out', 'ergo', 'know', 'would', 'right', 'educated', 'guess', 'gonna', 'play', 'tinight', 'midnight', 'too', 'excited', 'play', 'tonight', 'why', 'tho', 'just', 'finished', 'what', 'incredible', 'journey', 'already', 'excited', 'their', 'next', 'adventure', 'hello', 'there', 'which', 'amazon', 'was', 'that', 'mean', 'what', 'country', 'awesome', 'still', 'working', 'way', 'through', 'and', 'fantastic', 'just', 'purchased', 'mine', 'today', 'have', 'gots', 'support', 'polished', 'linear', 'games', 'same', 'love', 'support', 'single', 'player', 'games', 'not', 'all', 'games', 'have', 'hours', 'long', 'what', 'love', 'about', 'this', 'one', 'agree', 'more', 'tend', 'reply', 'shorter', 'games', 'lot', 'more', 'than', 'long', 'ones', 'between', 'this', 'and', 'hellblade', 'really', 'hope', 'these', 'cinematic', 'games', 'become', 'trend', 'theyâ', 'always', 'favorite', 'mine', 'same', 'here', 'man', 'absolutely', 'incredible', 'game', 'imo', 'had', 'idea', 'about', 'until', 'went', 'get', 'rage', 'started', 'watching', 'couple', 'videos', 'and', 'was', 'sold', 'wish', 'would', 'have', 'just', 'gotten', 'this', 'because', 'enjoy', 'this', 'much', 'more', 'than', 'rage', 'amazing', 'game', 'wish', 'more', 'games', 'were', 'like', 'this', 'and', 'couldnâ', 'believe', 'the', 'price', 'either', 'when', 'paid', 'for', 'thought', 'would', 'like', 'four', 'hours', 'tops', 'good', 'itâ', 'almost', 'ridiculous', 'agree', 'these', 'and', 'david', 'cages', 'games', 'are', 'favorites', 'far', 'sorry', 'for', 'the', 'late', 'answer', 'was', 'waiting', 'couple', 'days', 'see', 'they', 'sent', 'late', 'the', 'usa', 'amazon']\n",
      "A Way Out ['just', 'recently', 'lost', 'the', 'ability', 'hobby', 'that', 'was', 'good', 'enough', 'win', 'multiple', 'events', 'and', 'championships', 'the', 'point', 'that', 'was', 'sole', 'identity', 'now', 'trying', 'fill', 'the', 'void', 'left', 'short', 'going', 'insane', 'driving', 'those', 'life', 'away', 'from', 'find', 'this', 'sub', 'quite', 'and', 'interesting', 'hope', 'takes', 'off', 'physical', 'exercise', 'running', 'and', 'cycling', 'psychedelics', 'and', 'indulging', 'adventurous', 'solo', 'sexy', 'times', 'including', 'crossdressing', 'and', 'wearing', 'makeup', 'are', 'main', 'forms', 'escape', 'from', 'mundane', 'reality', 'but', 'still', 'working', 'striking', 'good', 'balance', 'because', 'can', 'also', 'overdo', 'sometimes', 'talk', 'over', 'with', 'the', 'other', 'mod', 'when', 'they', 'wake', 'got', 'some', 'stuff', 'you', 'need', 'work', 'out', 'would', 'hope', 'this', 'becomes', 'open', 'minded', 'community', 'had', 'experiences', 'with', 'escapism', 'via', 'drugs', 'and', 'some', 'ways', 'helped', 'accept', 'certain', 'aspects', 'life', 'will', 'admit', 'can', 'very', 'dangerous', 'method', 'though', 'had', 'the', 'opposite', 'experience', 'used', 'drugs', 'escape', 'from', 'all', 'the', 'shit', 'life', 'and', 'sent', 'down', 'deep', 'dark', 'path', 'clouding', 'judgment', 'who', 'was', 'and', 'why', 'was', 'here', 'not', 'good', 'time', 'life', 'definitely', 'dangerous', 'method', 'try', 'escape', 'and', 'would', 'recommend', 'trying', 'every', 'other', 'option', 'before', 'using', 'drugs', 'escape', 'interesting', 'sometimes', 'when', 'dream', 'vividly', 'different', 'person', 'but', 'always', 'the', 'same', 'character', 'alternate', 'personas', 'can', 'pretty', 'cool', 'thing', 'depends', 'the', 'drugs', 'used', 'and', 'heavily', 'the', 'persons', 'mental', 'state', 'had', 'both', 'good', 'and', 'bad', 'trips', 'from', 'psychedelics', 'that', 'changed', 'personality', 'and', 'outlook', 'life', 'would', 'credit', 'mushrooms', 'for', 'allowing', 'discover', 'empathy', 'and', 'compassion', 'and', 'bad', 'was', 'the', 'time', 'beating', 'opiate', 'addiction', 'made', 'mentally', 'tougher', 'and', 'forced', 'accept', 'parts', 'myself', 'used', 'hide', 'before', 'experimented', 'with', 'drugs', 'was', 'very', 'cold', 'bitter', 'person', 'obviously', 'not', 'everyone', 'can', 'this', 'and', 'recommend', 'drugs', 'anyone', 'for', 'the', 'sake', 'harm', 'reduction', 'some', 'people', 'just', 'turn', 'that', 'switch', 'off', 'again', 'drug', 'and', 'substance', 'abuse', 'fine', 'for', 'discussion', 'long', 'not', 'actively', 'encouraging', 'condoning', 'recreational', 'drug', 'use', 'there', 'take', 'look', 'this', 'hopefully', 'will', 'discussed', 'moderation', 'there', 'trees', 'for', 'those', 'who', 'wish', 'discuss', 'weed', 'like', 'hear', 'more', 'about', 'the', 'non', 'related', 'forms', 'release', 'and', 'coping', 'also', 'have', 'something', 'similar', 'but', 'believe', 'that', 'past', 'life', 'say', 'because', 'convinced', 'that', 'not', 'from', 'earth', 'believe', 'that', 'past', 'life', 'was', 'that', 'alien', 'race', 'every', 'often', 'have', 'dreams', 'past', 'but', 'when', 'wake', 'can', 'only', 'remember', 'bits', 'and', 'pieces', 'but', 'believe', 'that', 'its', 'name', 'live', 'life', 'believing', 'that', 'goal', 'and', 'that', 'everything', 'this', 'world', 'just', 'here', 'distract', 'the', 'video', 'made', 'fantastic', 'point', 'however', 'dream', 'finding', 'way', 'out', 'repetitive', 'life', 'while', 'the', 'video', 'discusses', 'way', 'merely', 'cope', 'with', 'what', 'you', 'already', 'have', 'and', 'merge', 'the', 'idea', 'work', 'and', 'play', 'together', 'said', 'should', 'consider', 'everything', 'light', 'game', 'still', 'full', 'energy', 'after', 'all', 'the', 'work', 'done', 'but', 'some', 'jobs', 'you', 'risk', 'taking', 'things', 'lightly', 'perceiving', 'game', 'nothing', 'about', 'work', 'enjoyable', 'pleasant', 'view', 'game', 'opinion', 'just', 'making', 'the', 'best', 'out', 'bad', 'case', 'scenario', 'someone', 'told', 'yeah', 'hell', 'and', 'really', 'hot', 'here', 'but', 'pretend', 'ice', 'skating', 'alaska', 'and', 'the', 'thought', 'might', 'keep', 'you', 'cool', 'merely', 'broken', 'arm', 'and', 'not', 'shooting', 'your', 'opinion', 'down', 'anything', 'promise', 'but', 'expressing', 'open', 'and', 'honest', 'thoughts', 'how', 'perceive', 'things', 'know', 'the', 'point', 'hard', 'get', 'you', 'follow', 'alan', 'teachings', 'which', 'can', 'long', 'know', 'you', 'will', 'see', 'that', 'his', 'perspective', 'all', 'life', 'game', 'think', 'game', 'more', 'like', 'role', 'everyone', 'has', 'roles', 'and', 'each', 'role', 'has', 'its', 'responsibilities', 'can', 'take', 'role', 'becoming', 'parent', 'for', 'example', 'get', 'can', 'leave', 'behind', 'leaving', 'home', 'you', 'child', 'anymore', 'what', 'saying', 'more', 'like', 'chose', 'role', 'that', 'suits', 'you', 'where', 'you', 'can', 'feel', 'fulfilled', 'you', 'want', 'dependant', 'hierarchy', 'employee', 'independent', 'you', 'want', 'the', 'hassle', 'having', 'kids', 'simply', 'not', 'saying', 'roles', 'have', 'responsibilities', 'take', 'the', 'head', 'big', 'company', 'this', 'guy', 'has', 'the', 'big', 'responsibility', 'all', 'the', 'salaries', 'his', 'employees', 'but', 'takes', 'pleasure', 'what', 'doing', 'will', 'feel', 'like', 'having', 'the', 'time', 'his', 'life', 'his', 'whole', 'career', 'but', 'will', 'still', 'responsable', 'for', 'all', 'employees', 'not', 'saying', 'stay', 'where', 'you', 'are', 'and', 'enjoy', 'either', 'rather', 'find', 'where', 'you', 'really', 'want', 'can', 'where', 'you', 'already', 'are', 'could', 'somewhere', 'else', 'find', 'not', 'where', 'your', 'parents', 'want', 'you', 'not', 'what', 'your', 'university', 'teacher', 'wants', 'nor', 'your', 'find', 'where', 'you', 'want', 'really', 'deep', 'down', 'your', 'heart', 'and', 'why', 'are', 'you', 'not', 'making', 'step', 'right', 'now', 'exactly', 'that', 'you', 'could', 'also', 'see', 'another', 'way', 'imagine', 'you', 'are', 'your', 'old', 'days', 'looking', 'back', 'where', 'you', 'are', 'exactly', 'now', 'you', 'are', 'about', 'die', 'really', 'nothing', 'matters', 'anymore', 'you', 'can', 'feel', 'that', 'you', 'could', 'outside', 'naked', 'screaming', 'matter', 'what', 'was', 'your', 'goal', 'that', 'time', 'should', 'you', 'have', 'changed', 'order', 'obtain', 'what', 'you', 'wanted', 'you', 'could', 'also', 'watch', 'the', 'truman', 'show', 'you', 'truly', 'understands', 'what', 'about', 'find', 'all', 'your', 'answers', 'there', 'good', 'luck', 'this', 'all', 'sounds', 'incredible', 'sounds', 'like', 'some', 'kind', 'wild', 'the', 'part', 'about', 'the', 'watch', 'sounds', 'quite', 'morbid', 'but', 'often', 'macabre', 'things', 'like', 'that', 'appear', 'subconsciously', 'into', 'dreams', 'without', 'intending', 'them', 'have', 'many', 'depth', 'dreams', 'and', 'such', 'use', 'the', 'cities', 'see', 'dreams', 'escape', 'but', 'yes', 'often', 'some', 'unpleasantly', 'dark', 'themes', 'throughout', 'wow', 'those', 'words', 'hit', 'hard', 'well', 'done', 'you', 'could', 'the', 'next', 'alan', 'watts', 'and', 'seen', 'the', 'truman', 'show', 'really', 'liked', 'style', 'and', 'storytelling', 'although', 'view', 'the', 'world', 'more', 'through', 'the', 'lens', 'totally', 'agree', 'with', 'you', 'personally', 'think', 'there', 'are', 'lot', 'benefits', 'found', 'psychedelics', 'even', 'though', 'own', 'personal', 'experience', 'been', 'great', 'with', 'them', 'far', 'really', 'like', 'his', 'teachings', 'they', 'are', 'simple', 'and', 'profound', 'and', 'yet', 'way', 'anyone', 'could', 'say', 'that', 'what', 'saying', 'wrong', 'way', 'the', 'same', 'story', 'the', 'truman', 'show', 'both', 'start', 'with', 'this', 'terrible', 'feeling', 'oppression', 'you', 'have', 'stay', 'here', 'you', 'are', 'meant', 'here', 'killed', 'you', 'try', 'and', 'get', 'away', 'rebel', 'against', 'the', 'system', 'will', 'they', 'they', 'try', 'never', 'know', 'they', 'are', 'unhappy', 'where', 'they', 'are', 'anyway', 'why', 'give', 'shot', 'thank', 'you', 'thank', 'you', 'for', 'sharing', 'just', 'for', 'clarity', 'what', 'kind', 'way', 'out', 'are', 'you', 'looking', 'for', 'way', 'out', 'your', 'situation', 'escape', 'the', 'sense', 'relief', 'stress', 'and', 'burden']\n"
     ]
    }
   ],
   "source": [
    "names = np.unique(reddit_data[\"game_name\"])\n",
    "for name in names[:5]:\n",
    "  print(name, tokenized_reddit_comments[name])"
   ]
  },
  {
   "cell_type": "code",
   "execution_count": 29,
   "metadata": {
    "colab": {
     "base_uri": "https://localhost:8080/"
    },
    "executionInfo": {
     "elapsed": 3265,
     "status": "ok",
     "timestamp": 1654683470022,
     "user": {
      "displayName": "Aiden Sui",
      "userId": "14271933019255603823"
     },
     "user_tz": 420
    },
    "id": "9oKvBJwVubOd",
    "outputId": "07ac2d61-bd0a-405a-ad4d-4c3b1738ba39"
   },
   "outputs": [],
   "source": [
    "w2v = []\n",
    "game_names = []\n",
    "for game, comments in tokenized_reddit_comments.items():\n",
    "  w2v_temp = []\n",
    "  for c in comments:\n",
    "    v = redd_w2v.wv[c]\n",
    "    w2v_temp.append(v)\n",
    "  w2v_temp = np.array(w2v_temp)\n",
    "  w2v.append(np.mean(w2v_temp, axis=0))\n",
    "  game_names.append(game)\n"
   ]
  },
  {
   "cell_type": "code",
   "execution_count": 30,
   "metadata": {
    "id": "URs5620YucP1"
   },
   "outputs": [],
   "source": [
    "w2v = np.array(w2v)\n",
    "w2v_df = pd.DataFrame(w2v)\n",
    "w2v_df['title'] = np.array(game_names)"
   ]
  },
  {
   "cell_type": "code",
   "execution_count": 31,
   "metadata": {
    "colab": {
     "base_uri": "https://localhost:8080/"
    },
    "executionInfo": {
     "elapsed": 9501,
     "status": "ok",
     "timestamp": 1654683479515,
     "user": {
      "displayName": "Aiden Sui",
      "userId": "14271933019255603823"
     },
     "user_tz": 420
    },
    "id": "-5WgZfSsuiDJ",
    "outputId": "967c5bf5-84e2-4f69-f057-70ed27b16bc4"
   },
   "outputs": [
    {
     "name": "stdout",
     "output_type": "stream",
     "text": [
      "Requirement already satisfied: vaderSentiment in d:\\anaconda3\\lib\\site-packages (3.3.2)\n",
      "Requirement already satisfied: requests in d:\\anaconda3\\lib\\site-packages (from vaderSentiment) (2.27.1)\n",
      "Requirement already satisfied: certifi>=2017.4.17 in d:\\anaconda3\\lib\\site-packages (from requests->vaderSentiment) (2021.10.8)\n",
      "Requirement already satisfied: charset-normalizer~=2.0.0 in d:\\anaconda3\\lib\\site-packages (from requests->vaderSentiment) (2.0.4)\n",
      "Requirement already satisfied: urllib3<1.27,>=1.21.1 in d:\\anaconda3\\lib\\site-packages (from requests->vaderSentiment) (1.26.7)\n",
      "Requirement already satisfied: idna<4,>=2.5 in d:\\anaconda3\\lib\\site-packages (from requests->vaderSentiment) (3.3)\n"
     ]
    },
    {
     "name": "stderr",
     "output_type": "stream",
     "text": [
      "WARNING: Ignoring invalid distribution -ip (d:\\anaconda3\\lib\\site-packages)\n",
      "WARNING: Ignoring invalid distribution -ip (d:\\anaconda3\\lib\\site-packages)\n",
      "WARNING: Ignoring invalid distribution -ip (d:\\anaconda3\\lib\\site-packages)\n",
      "WARNING: Ignoring invalid distribution -ip (d:\\anaconda3\\lib\\site-packages)\n",
      "WARNING: Ignoring invalid distribution -ip (d:\\anaconda3\\lib\\site-packages)\n",
      "WARNING: Ignoring invalid distribution -ip (d:\\anaconda3\\lib\\site-packages)\n"
     ]
    }
   ],
   "source": [
    "!pip install vaderSentiment"
   ]
  },
  {
   "cell_type": "markdown",
   "metadata": {
    "id": "KtMBQMAI1m1I"
   },
   "source": [
    "## Sentiment Analysis"
   ]
  },
  {
   "cell_type": "code",
   "execution_count": 32,
   "metadata": {
    "id": "vC6vv5w4ukbw"
   },
   "outputs": [],
   "source": [
    "from vaderSentiment.vaderSentiment import SentimentIntensityAnalyzer"
   ]
  },
  {
   "cell_type": "code",
   "execution_count": 33,
   "metadata": {
    "id": "9AV5mn1gulzd"
   },
   "outputs": [],
   "source": [
    "sid_obj = SentimentIntensityAnalyzer()\n",
    "pos = []\n",
    "neu = []\n",
    "neg = []\n",
    "game_names = []\n",
    "\n",
    "for game, comments in reddit_comments.items():\n",
    "  pos_temp = []\n",
    "  neu_temp = []\n",
    "  neg_temp = []\n",
    "  for c in comments:\n",
    "    sentiment_dict = sid_obj.polarity_scores(c)\n",
    "    pos_temp.append(sentiment_dict['pos'])\n",
    "    neu_temp.append(sentiment_dict['neu'])\n",
    "    neg_temp.append(sentiment_dict['neg'])\n",
    "  pos.append(np.mean(pos_temp))\n",
    "  neu.append(np.mean(neu_temp))\n",
    "  neg.append(np.mean(neg_temp))\n",
    "  game_names.append(game)"
   ]
  },
  {
   "cell_type": "code",
   "execution_count": 34,
   "metadata": {
    "id": "EY1FYAziunMC"
   },
   "outputs": [],
   "source": [
    "senti_df = pd.DataFrame()\n",
    "senti_df['pos'] = pos\n",
    "senti_df['neu'] = neu\n",
    "senti_df['neg'] = neg\n",
    "senti_df['title'] = game_names"
   ]
  },
  {
   "cell_type": "code",
   "execution_count": 35,
   "metadata": {
    "colab": {
     "base_uri": "https://localhost:8080/",
     "height": 424
    },
    "executionInfo": {
     "elapsed": 7,
     "status": "ok",
     "timestamp": 1654683482771,
     "user": {
      "displayName": "Aiden Sui",
      "userId": "14271933019255603823"
     },
     "user_tz": 420
    },
    "id": "iP0GocKruoZc",
    "outputId": "e761ff5c-774a-400e-d84a-19057c43d8e9"
   },
   "outputs": [
    {
     "data": {
      "text/html": [
       "<div>\n",
       "<style scoped>\n",
       "    .dataframe tbody tr th:only-of-type {\n",
       "        vertical-align: middle;\n",
       "    }\n",
       "\n",
       "    .dataframe tbody tr th {\n",
       "        vertical-align: top;\n",
       "    }\n",
       "\n",
       "    .dataframe thead th {\n",
       "        text-align: right;\n",
       "    }\n",
       "</style>\n",
       "<table border=\"1\" class=\"dataframe\">\n",
       "  <thead>\n",
       "    <tr style=\"text-align: right;\">\n",
       "      <th></th>\n",
       "      <th>pos</th>\n",
       "      <th>neu</th>\n",
       "      <th>neg</th>\n",
       "      <th>title</th>\n",
       "    </tr>\n",
       "  </thead>\n",
       "  <tbody>\n",
       "    <tr>\n",
       "      <th>0</th>\n",
       "      <td>0.158786</td>\n",
       "      <td>0.791071</td>\n",
       "      <td>0.050357</td>\n",
       "      <td>Minecraft</td>\n",
       "    </tr>\n",
       "    <tr>\n",
       "      <th>1</th>\n",
       "      <td>0.106813</td>\n",
       "      <td>0.743000</td>\n",
       "      <td>0.150188</td>\n",
       "      <td>Grand Theft Auto V</td>\n",
       "    </tr>\n",
       "    <tr>\n",
       "      <th>2</th>\n",
       "      <td>0.211105</td>\n",
       "      <td>0.708526</td>\n",
       "      <td>0.080474</td>\n",
       "      <td>Mario Kart 8 Deluxe</td>\n",
       "    </tr>\n",
       "    <tr>\n",
       "      <th>3</th>\n",
       "      <td>0.165647</td>\n",
       "      <td>0.798941</td>\n",
       "      <td>0.035412</td>\n",
       "      <td>Red Dead Redemption 2</td>\n",
       "    </tr>\n",
       "    <tr>\n",
       "      <th>4</th>\n",
       "      <td>0.176000</td>\n",
       "      <td>0.806300</td>\n",
       "      <td>0.017650</td>\n",
       "      <td>Animal Crossing: New Horizons</td>\n",
       "    </tr>\n",
       "    <tr>\n",
       "      <th>...</th>\n",
       "      <td>...</td>\n",
       "      <td>...</td>\n",
       "      <td>...</td>\n",
       "      <td>...</td>\n",
       "    </tr>\n",
       "    <tr>\n",
       "      <th>369</th>\n",
       "      <td>0.223400</td>\n",
       "      <td>0.658800</td>\n",
       "      <td>0.118100</td>\n",
       "      <td>Maitetsu: Pure Station</td>\n",
       "    </tr>\n",
       "    <tr>\n",
       "      <th>370</th>\n",
       "      <td>0.113235</td>\n",
       "      <td>0.825118</td>\n",
       "      <td>0.061588</td>\n",
       "      <td>Million Arthur: Arcana Blood</td>\n",
       "    </tr>\n",
       "    <tr>\n",
       "      <th>371</th>\n",
       "      <td>0.146550</td>\n",
       "      <td>0.750700</td>\n",
       "      <td>0.102650</td>\n",
       "      <td>Billion Road</td>\n",
       "    </tr>\n",
       "    <tr>\n",
       "      <th>372</th>\n",
       "      <td>0.226350</td>\n",
       "      <td>0.748650</td>\n",
       "      <td>0.025000</td>\n",
       "      <td>Gungrave VR</td>\n",
       "    </tr>\n",
       "    <tr>\n",
       "      <th>373</th>\n",
       "      <td>0.136706</td>\n",
       "      <td>0.814294</td>\n",
       "      <td>0.048941</td>\n",
       "      <td>Let It Die</td>\n",
       "    </tr>\n",
       "  </tbody>\n",
       "</table>\n",
       "<p>374 rows × 4 columns</p>\n",
       "</div>"
      ],
      "text/plain": [
       "          pos       neu       neg                          title\n",
       "0    0.158786  0.791071  0.050357                      Minecraft\n",
       "1    0.106813  0.743000  0.150188             Grand Theft Auto V\n",
       "2    0.211105  0.708526  0.080474            Mario Kart 8 Deluxe\n",
       "3    0.165647  0.798941  0.035412          Red Dead Redemption 2\n",
       "4    0.176000  0.806300  0.017650  Animal Crossing: New Horizons\n",
       "..        ...       ...       ...                            ...\n",
       "369  0.223400  0.658800  0.118100         Maitetsu: Pure Station\n",
       "370  0.113235  0.825118  0.061588   Million Arthur: Arcana Blood\n",
       "371  0.146550  0.750700  0.102650                   Billion Road\n",
       "372  0.226350  0.748650  0.025000                    Gungrave VR\n",
       "373  0.136706  0.814294  0.048941                     Let It Die\n",
       "\n",
       "[374 rows x 4 columns]"
      ]
     },
     "execution_count": 35,
     "metadata": {},
     "output_type": "execute_result"
    }
   ],
   "source": [
    "senti_df"
   ]
  },
  {
   "cell_type": "code",
   "execution_count": 36,
   "metadata": {
    "colab": {
     "base_uri": "https://localhost:8080/",
     "height": 455
    },
    "executionInfo": {
     "elapsed": 522,
     "status": "ok",
     "timestamp": 1654683483287,
     "user": {
      "displayName": "Aiden Sui",
      "userId": "14271933019255603823"
     },
     "user_tz": 420
    },
    "id": "reKUvjX5uqwD",
    "outputId": "3aeeebbf-f7cb-4609-810c-17d088603878"
   },
   "outputs": [
    {
     "data": {
      "text/html": [
       "<div>\n",
       "<style scoped>\n",
       "    .dataframe tbody tr th:only-of-type {\n",
       "        vertical-align: middle;\n",
       "    }\n",
       "\n",
       "    .dataframe tbody tr th {\n",
       "        vertical-align: top;\n",
       "    }\n",
       "\n",
       "    .dataframe thead th {\n",
       "        text-align: right;\n",
       "    }\n",
       "</style>\n",
       "<table border=\"1\" class=\"dataframe\">\n",
       "  <thead>\n",
       "    <tr style=\"text-align: right;\">\n",
       "      <th></th>\n",
       "      <th>pos</th>\n",
       "      <th>neu</th>\n",
       "      <th>neg</th>\n",
       "    </tr>\n",
       "    <tr>\n",
       "      <th>title</th>\n",
       "      <th></th>\n",
       "      <th></th>\n",
       "      <th></th>\n",
       "    </tr>\n",
       "  </thead>\n",
       "  <tbody>\n",
       "    <tr>\n",
       "      <th>Minecraft</th>\n",
       "      <td>0.158786</td>\n",
       "      <td>0.791071</td>\n",
       "      <td>0.050357</td>\n",
       "    </tr>\n",
       "    <tr>\n",
       "      <th>Grand Theft Auto V</th>\n",
       "      <td>0.106813</td>\n",
       "      <td>0.743000</td>\n",
       "      <td>0.150188</td>\n",
       "    </tr>\n",
       "    <tr>\n",
       "      <th>Mario Kart 8 Deluxe</th>\n",
       "      <td>0.211105</td>\n",
       "      <td>0.708526</td>\n",
       "      <td>0.080474</td>\n",
       "    </tr>\n",
       "    <tr>\n",
       "      <th>Red Dead Redemption 2</th>\n",
       "      <td>0.165647</td>\n",
       "      <td>0.798941</td>\n",
       "      <td>0.035412</td>\n",
       "    </tr>\n",
       "    <tr>\n",
       "      <th>Animal Crossing: New Horizons</th>\n",
       "      <td>0.176000</td>\n",
       "      <td>0.806300</td>\n",
       "      <td>0.017650</td>\n",
       "    </tr>\n",
       "    <tr>\n",
       "      <th>...</th>\n",
       "      <td>...</td>\n",
       "      <td>...</td>\n",
       "      <td>...</td>\n",
       "    </tr>\n",
       "    <tr>\n",
       "      <th>Maitetsu: Pure Station</th>\n",
       "      <td>0.223400</td>\n",
       "      <td>0.658800</td>\n",
       "      <td>0.118100</td>\n",
       "    </tr>\n",
       "    <tr>\n",
       "      <th>Million Arthur: Arcana Blood</th>\n",
       "      <td>0.113235</td>\n",
       "      <td>0.825118</td>\n",
       "      <td>0.061588</td>\n",
       "    </tr>\n",
       "    <tr>\n",
       "      <th>Billion Road</th>\n",
       "      <td>0.146550</td>\n",
       "      <td>0.750700</td>\n",
       "      <td>0.102650</td>\n",
       "    </tr>\n",
       "    <tr>\n",
       "      <th>Gungrave VR</th>\n",
       "      <td>0.226350</td>\n",
       "      <td>0.748650</td>\n",
       "      <td>0.025000</td>\n",
       "    </tr>\n",
       "    <tr>\n",
       "      <th>Let It Die</th>\n",
       "      <td>0.136706</td>\n",
       "      <td>0.814294</td>\n",
       "      <td>0.048941</td>\n",
       "    </tr>\n",
       "  </tbody>\n",
       "</table>\n",
       "<p>374 rows × 3 columns</p>\n",
       "</div>"
      ],
      "text/plain": [
       "                                    pos       neu       neg\n",
       "title                                                      \n",
       "Minecraft                      0.158786  0.791071  0.050357\n",
       "Grand Theft Auto V             0.106813  0.743000  0.150188\n",
       "Mario Kart 8 Deluxe            0.211105  0.708526  0.080474\n",
       "Red Dead Redemption 2          0.165647  0.798941  0.035412\n",
       "Animal Crossing: New Horizons  0.176000  0.806300  0.017650\n",
       "...                                 ...       ...       ...\n",
       "Maitetsu: Pure Station         0.223400  0.658800  0.118100\n",
       "Million Arthur: Arcana Blood   0.113235  0.825118  0.061588\n",
       "Billion Road                   0.146550  0.750700  0.102650\n",
       "Gungrave VR                    0.226350  0.748650  0.025000\n",
       "Let It Die                     0.136706  0.814294  0.048941\n",
       "\n",
       "[374 rows x 3 columns]"
      ]
     },
     "execution_count": 36,
     "metadata": {},
     "output_type": "execute_result"
    }
   ],
   "source": [
    "senti_df.set_index('title')"
   ]
  },
  {
   "cell_type": "markdown",
   "metadata": {
    "id": "AHZRlljG1tqP"
   },
   "source": [
    "## Joining All Data into One Table"
   ]
  },
  {
   "cell_type": "code",
   "execution_count": 37,
   "metadata": {
    "id": "G6GX5BzTusPz"
   },
   "outputs": [],
   "source": [
    "rslt_df = combined_data_cleaned.set_index('title').join(senti_df.set_index('title'), how='inner')\n",
    "rslt_df = rslt_df.join(w2v_df.set_index('title'), how='inner')\n",
    "rslt_df = rslt_df.reset_index().drop(['title'], axis=1)"
   ]
  },
  {
   "cell_type": "code",
   "execution_count": 38,
   "metadata": {
    "id": "UZ5is9GuuvMN"
   },
   "outputs": [],
   "source": [
    "sup_vec = SuperVectorizer(auto_cast=True)"
   ]
  },
  {
   "cell_type": "code",
   "execution_count": 39,
   "metadata": {
    "colab": {
     "base_uri": "https://localhost:8080/"
    },
    "executionInfo": {
     "elapsed": 2580,
     "status": "ok",
     "timestamp": 1654683485864,
     "user": {
      "displayName": "Aiden Sui",
      "userId": "14271933019255603823"
     },
     "user_tz": 420
    },
    "id": "d2LMPa_IuwR7",
    "outputId": "a7ead8d4-3627-4868-c8b6-1946786e8d41"
   },
   "outputs": [
    {
     "name": "stderr",
     "output_type": "stream",
     "text": [
      "D:\\anaconda3\\lib\\site-packages\\sklearn\\utils\\validation.py:1675: FutureWarning: Feature names only support names that are all strings. Got feature names with dtypes: ['int', 'str']. An error will be raised in 1.2.\n",
      "  warnings.warn(\n"
     ]
    }
   ],
   "source": [
    "X = rslt_df.drop(['log2'], axis=1)\n",
    "y = rslt_df['log2']\n",
    "X_enc = sup_vec.fit_transform(X, y)"
   ]
  },
  {
   "cell_type": "code",
   "execution_count": 40,
   "metadata": {
    "id": "8plucuYHuxXp"
   },
   "outputs": [],
   "source": [
    "X_train, X_test, y_train, y_test = train_test_split(\n",
    "    X_enc, y, test_size=0.25\n",
    ")"
   ]
  },
  {
   "cell_type": "markdown",
   "metadata": {
    "id": "vEknh3eV1xa7"
   },
   "source": [
    "## Trainning Model 2"
   ]
  },
  {
   "cell_type": "code",
   "execution_count": 41,
   "metadata": {
    "colab": {
     "base_uri": "https://localhost:8080/"
    },
    "executionInfo": {
     "elapsed": 2102,
     "status": "ok",
     "timestamp": 1654683487963,
     "user": {
      "displayName": "Aiden Sui",
      "userId": "14271933019255603823"
     },
     "user_tz": 420
    },
    "id": "PKPaCRQ-uzp-",
    "outputId": "f8b5a820-e97b-4c38-aa84-53fc26bf1ebd"
   },
   "outputs": [
    {
     "data": {
      "text/plain": [
       "GradientBoostingRegressor()"
      ]
     },
     "execution_count": 41,
     "metadata": {},
     "output_type": "execute_result"
    }
   ],
   "source": [
    "regressor = GradientBoostingRegressor()\n",
    "regressor.fit(X_train, y_train)"
   ]
  },
  {
   "cell_type": "markdown",
   "metadata": {
    "id": "BFlcdtm612ux"
   },
   "source": [
    "## Testing Model 2 Performance"
   ]
  },
  {
   "cell_type": "code",
   "execution_count": 42,
   "metadata": {
    "colab": {
     "base_uri": "https://localhost:8080/",
     "height": 295
    },
    "executionInfo": {
     "elapsed": 522,
     "status": "ok",
     "timestamp": 1654683488479,
     "user": {
      "displayName": "Aiden Sui",
      "userId": "14271933019255603823"
     },
     "user_tz": 420
    },
    "id": "GMrN3Cqyu3Fh",
    "outputId": "21b544e1-e172-4053-8264-d31bb2db762c"
   },
   "outputs": [
    {
     "data": {
      "image/png": "[encoded data removed]",
      "text/plain": [
       "<Figure size 432x288 with 1 Axes>"
      ]
     },
     "metadata": {
      "needs_background": "light"
     },
     "output_type": "display_data"
    }
   ],
   "source": [
    "test_predictions = regressor.predict(X_test).flatten()\n",
    "\n",
    "plt.scatter(y_test, test_predictions)\n",
    "plt.xlabel('True Values')\n",
    "plt.ylabel('Predictions')\n",
    "plt.axis('equal')\n",
    "plt.axis('square')\n",
    "plt.xlim([0,plt.xlim()[1]])\n",
    "plt.ylim([0,plt.ylim()[1]])\n",
    "plt.title(\"Prediction VS. True Values\")\n",
    "_ = plt.plot([-100, 100], [-100, 100])"
   ]
  },
  {
   "cell_type": "code",
   "execution_count": 43,
   "metadata": {
    "colab": {
     "base_uri": "https://localhost:8080/",
     "height": 295
    },
    "executionInfo": {
     "elapsed": 350,
     "status": "ok",
     "timestamp": 1654683488827,
     "user": {
      "displayName": "Aiden Sui",
      "userId": "14271933019255603823"
     },
     "user_tz": 420
    },
    "id": "OttNH6X9u4Yd",
    "outputId": "46889e92-09d7-4c34-9194-e31229b4ec58"
   },
   "outputs": [
    {
     "data": {
      "image/png": "[encoded data removed]",
      "text/plain": [
       "<Figure size 432x288 with 1 Axes>"
      ]
     },
     "metadata": {
      "needs_background": "light"
     },
     "output_type": "display_data"
    }
   ],
   "source": [
    "plt.hist(test_predictions - y_test, bins=25)\n",
    "plt.title(\"Prediction Error Distribution\")\n",
    "plt.xlabel(\"Prediction Error\")\n",
    "plt.ylabel(\"Count\")\n",
    "plt.show()"
   ]
  },
  {
   "cell_type": "code",
   "execution_count": 44,
   "metadata": {
    "colab": {
     "base_uri": "https://localhost:8080/"
    },
    "executionInfo": {
     "elapsed": 9699,
     "status": "ok",
     "timestamp": 1654683498524,
     "user": {
      "displayName": "Aiden Sui",
      "userId": "14271933019255603823"
     },
     "user_tz": 420
    },
    "id": "CTc30XHMxKGC",
    "outputId": "bb5f562e-2a21-4591-afc4-8ae28d73e5ac"
   },
   "outputs": [
    {
     "data": {
      "text/plain": [
       "0.7820786671152874"
      ]
     },
     "execution_count": 44,
     "metadata": {},
     "output_type": "execute_result"
    }
   ],
   "source": [
    "np.mean(cross_val_score(regressor, X_enc, y, scoring = mae_scorer, cv=4))"
   ]
  },
  {
   "cell_type": "markdown",
   "metadata": {
    "id": "xTtBf6wi15ZU"
   },
   "source": [
    "## Extracing Feature Importance for Model 2"
   ]
  },
  {
   "cell_type": "code",
   "execution_count": 45,
   "metadata": {
    "id": "3jPU4mFnzQAx"
   },
   "outputs": [],
   "source": [
    "importances = regressor.feature_importances_\n",
    "indices = np.argsort(importances)\n",
    "feature_names = sup_vec.get_feature_names()\n",
    "feature_names[:8]\n",
    "indices = list(reversed(indices))"
   ]
  },
  {
   "cell_type": "code",
   "execution_count": 46,
   "metadata": {
    "colab": {
     "base_uri": "https://localhost:8080/",
     "height": 659
    },
    "executionInfo": {
     "elapsed": 944,
     "status": "ok",
     "timestamp": 1654683500167,
     "user": {
      "displayName": "Aiden Sui",
      "userId": "14271933019255603823"
     },
     "user_tz": 420
    },
    "id": "i1EBb2_gzMf2",
    "outputId": "5f35a0f6-f914-4625-b59d-23bc9e103abe"
   },
   "outputs": [
    {
     "data": {
      "image/png": "[encoded data removed]",
      "text/plain": [
       "<Figure size 864x648 with 1 Axes>"
      ]
     },
     "metadata": {
      "needs_background": "light"
     },
     "output_type": "display_data"
    }
   ],
   "source": [
    "plt.figure(figsize=(12, 9))\n",
    "plt.title(\"Feature importances\")\n",
    "n = 10\n",
    "n_indices = indices[:n]\n",
    "labels = np.array(feature_names)[n_indices]\n",
    "plt.barh(range(n), importances[n_indices], color=\"b\")\n",
    "plt.yticks(range(n), labels, size=15)\n",
    "plt.tight_layout(pad=1)\n",
    "plt.show()"
   ]
  }
 ],
 "metadata": {
  "colab": {
   "collapsed_sections": [],
   "name": "sample_run.ipynb",
   "provenance": [],
   "toc_visible": true
  },
  "kernelspec": {
   "display_name": "Python 3",
   "language": "python",
   "name": "python3"
  },
  "language_info": {
   "codemirror_mode": {
    "name": "ipython",
    "version": 3
   },
   "file_extension": ".py",
   "mimetype": "text/x-python",
   "name": "python",
   "nbconvert_exporter": "python",
   "pygments_lexer": "ipython3",
   "version": "3.8.5"
  }
 },
 "nbformat": 4,
 "nbformat_minor": 1
}
